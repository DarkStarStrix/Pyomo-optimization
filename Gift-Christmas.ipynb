{
 "cells": [
  {
   "cell_type": "code",
   "execution_count": 1,
   "metadata": {},
   "outputs": [],
   "source": [
    "from pyomo.environ import *\n",
    "import matplotlib.pyplot as plt\n",
    "import time"
   ]
  },
  {
   "cell_type": "code",
   "execution_count": 2,
   "metadata": {},
   "outputs": [],
   "source": [
    "PEOPLE =['Alice', 'Bob', 'Carol', 'Dave', 'Eve']\n",
    "GIFTS= ['Book', 'Toy', 'Chocolate', 'Wine', 'Flowers']\n",
    "GIFTCOSTS=[ 10, 20, 5, 15, 7]\n",
    "HAPPINESS={\n",
    "'Book': [3, 2, 5, 1, 4],\n",
    "'Toy': [5, 2, 4, 3, 1],\n",
    "'Chocolate': [1, 3, 4, 5, 2],\n",
    "'Wine': [2, 5, 3, 4, 1],\n",
    "'Flowers': [4, 3, 1, 2, 5]}\n",
    "BUDGET= 50"
   ]
  },
  {
   "cell_type": "markdown",
   "metadata": {},
   "source": [
    "$$ \\max_{X} \\sum_{p,g} X_{p,g}H_{p,g} $$ \n",
    "\n",
    "$$ \\sum_{p,g} X_{p,g}Cost_g \\leq Budget$$ \n",
    "$$ \\forall p \\ \\sum_{g} X_{p,g} = 1$$ \n"
   ]
  },
  {
   "cell_type": "code",
   "execution_count": 3,
   "metadata": {},
   "outputs": [],
   "source": [
    "model = AbstractModel()\n",
    "model.p = Set(initialize=PEOPLE)\n",
    "model.g = Set(initialize=GIFTS)\n",
    "model.x = Var(model.p,model.g, within=Binary)\n",
    "def H_rule(model, p,g):\n",
    "    return HAPPINESS[g][1]\n",
    "model.happiness = Param(model.p,model.g, rule=H_rule)\n",
    "\n",
    "def C1_rule(model):\n",
    "    return sum(model.x[p,g]*GIFTCOSTS[GIFTS.index(g)] for p in model.p for g in model.g) <= BUDGET\n",
    "model.C1 = Constraint(rule=C1_rule)\n",
    "\n",
    "def C2_rule(model,p):\n",
    "    return sum(model.x[p,g] for g in model.g) == 1\n",
    "model.C2 = Constraint(model.p,rule=C2_rule)\n",
    "\n",
    "def obj_rule(model):\n",
    "    return sum(model.x[p,g]*HAPPINESS[g][PEOPLE.index(p)] for p in model.p for g in model.g) \n",
    "model.OF = Objective(rule=obj_rule,sense=maximize)"
   ]
  },
  {
   "cell_type": "code",
   "execution_count": 8,
   "metadata": {},
   "outputs": [
    {
     "name": "stdout",
     "output_type": "stream",
     "text": [
      "Time is  0.03\n",
      "feasible\n",
      "Total Happiness is  24.0\n"
     ]
    }
   ],
   "source": [
    "opt = SolverFactory('glpk')\n",
    "instance = model.create_instance()\n",
    "\n",
    "start = time.time()\n",
    "results = opt.solve(instance) # solves and updates instance\n",
    "print('Time is ', round(time.time() - start, 4) ) \n",
    "\n",
    "if (results.solver.status == SolverStatus.ok) and (results.solver.termination_condition == TerminationCondition.optimal):\n",
    "    print('feasible')\n",
    "elif (results.solver.termination_condition == TerminationCondition.infeasible):\n",
    "    print('infeasible')\n",
    "else:\n",
    "    print ('Solver Status:',  results.solver.status)\n",
    "print('Total Happiness is ', value(instance.OF))"
   ]
  },
  {
   "cell_type": "code",
   "execution_count": 7,
   "metadata": {},
   "outputs": [
    {
     "name": "stdout",
     "output_type": "stream",
     "text": [
      "Alice  ----->   Flowers\n",
      "Bob  ----->   Wine\n",
      "Carol  ----->   Book\n",
      "Dave  ----->   Chocolate\n",
      "Eve  ----->   Flowers\n"
     ]
    }
   ],
   "source": [
    "for p in instance.p:\n",
    "    for g in instance.g:\n",
    "        if value(instance.x[p,g])>0:\n",
    "            print(p,' ----->  ', g)"
   ]
  },
  {
   "cell_type": "code",
   "execution_count": null,
   "metadata": {},
   "outputs": [],
   "source": []
  }
 ],
 "metadata": {
  "kernelspec": {
   "display_name": "Python 3",
   "language": "python",
   "name": "python3"
  },
  "language_info": {
   "codemirror_mode": {
    "name": "ipython",
    "version": 3
   },
   "file_extension": ".py",
   "mimetype": "text/x-python",
   "name": "python",
   "nbconvert_exporter": "python",
   "pygments_lexer": "ipython3",
   "version": "3.7.12"
  }
 },
 "nbformat": 4,
 "nbformat_minor": 4
}
