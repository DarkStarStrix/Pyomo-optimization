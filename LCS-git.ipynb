{
 "cells": [
  {
   "cell_type": "code",
   "execution_count": 1,
   "metadata": {},
   "outputs": [],
   "source": [
    "from pyomo.environ import *\n",
    "import matplotlib.pyplot as plt\n",
    "import numpy as np\n",
    "import random "
   ]
  },
  {
   "cell_type": "code",
   "execution_count": 2,
   "metadata": {},
   "outputs": [],
   "source": [
    "S1 =\"Imagination is more important than knowledge.\"\n",
    "S2 =\"The secret to creativity is knowing how to hide your sources.\"\n",
    "\n",
    "S1=\"AGCTAGCTAGCATGAG\"\n",
    "S2=\"AGCTAGCAGTACGAGC\"\n",
    "N, M= len(S1) , len(S2)\n",
    "BM = M+N"
   ]
  },
  {
   "cell_type": "code",
   "execution_count": 3,
   "metadata": {},
   "outputs": [],
   "source": [
    "connect = {}\n",
    "for i in range(N):\n",
    "    for j in range(M):\n",
    "        if S1[i]==S2[j] and S2[j]!=' ':\n",
    "            connect[i+1,j+1] = S1[i]"
   ]
  },
  {
   "cell_type": "code",
   "execution_count": 4,
   "metadata": {},
   "outputs": [],
   "source": [
    "A, B = [] , [] \n",
    "for (i,j) in connect:\n",
    "    A.append(i)\n",
    "    B.append(j)"
   ]
  },
  {
   "cell_type": "code",
   "execution_count": 5,
   "metadata": {},
   "outputs": [],
   "source": [
    "model = AbstractModel()\n",
    "model.i = RangeSet(N)\n",
    "model.ii = Set(initialize=model.i)\n",
    "\n",
    "model.j = RangeSet(M)\n",
    "model.x = Var (model.i, model.j, within=Binary ) \n",
    "def rule_C1(model, i):\n",
    "    if i in A:\n",
    "        return sum(model.x[i,j] for j in model.j if (i,j) in connect)<= 1 \n",
    "    else:\n",
    "        return Constraint.Skip\n",
    "model.C1 = Constraint(model.i, rule = rule_C1)\n",
    "\n",
    "def rule_C2(model, j):\n",
    "    if j in B:\n",
    "        return sum(model.x[i,j] for i in model.i if (i,j) in connect)<= 1 \n",
    "    else:\n",
    "        return Constraint.Skip\n",
    "model.C2 = Constraint(model.j, rule = rule_C2)\n",
    "\n",
    "def rule_C3(model, i,ii):\n",
    "    if i in A and ii in A and ii>i:\n",
    "        return sum(j*model.x[i,j] for j in model.j if (i,j) in connect)<= \\\n",
    "        sum(j*model.x[ii,j] for j in model.j if (ii,j) in connect) +BM*(1-sum(model.x[ii,j] for j in model.j if (ii,j) in connect) )\n",
    "    else:\n",
    "        return Constraint.Skip\n",
    "model.C3 = Constraint(model.i, model.ii, rule = rule_C3)\n",
    "\n",
    "def rule_OF(model):\n",
    "    return sum(model.x[i,j] for (i,j) in connect) \n",
    "model.obj = Objective(rule= rule_OF, sense=maximize)"
   ]
  },
  {
   "cell_type": "code",
   "execution_count": 6,
   "metadata": {},
   "outputs": [
    {
     "name": "stdout",
     "output_type": "stream",
     "text": [
      "feasible\n",
      "13.0\n"
     ]
    }
   ],
   "source": [
    "opt = SolverFactory('cbc')\n",
    "instance = model.create_instance()\n",
    "\n",
    "results = opt.solve(instance) # solves and updates instance\n",
    "if (results.solver.status == SolverStatus.ok) and (results.solver.termination_condition == TerminationCondition.optimal):\n",
    "    print('feasible')\n",
    "elif (results.solver.termination_condition == TerminationCondition.infeasible):\n",
    "    print('infeasible')\n",
    "else:\n",
    "    print ('Solver Status:',  results.solver.status)\n",
    "    \n",
    "print(value(instance.obj))"
   ]
  },
  {
   "cell_type": "code",
   "execution_count": 7,
   "metadata": {},
   "outputs": [
    {
     "name": "stdout",
     "output_type": "stream",
     "text": [
      "(1, 1) A\n",
      "(2, 2) G\n",
      "(3, 3) C\n",
      "(4, 4) T\n",
      "(5, 5) A\n",
      "(6, 6) G\n",
      "(7, 7) C\n",
      "(9, 8) A\n",
      "(10, 9) G\n",
      "(13, 10) T\n",
      "(14, 13) G\n",
      "(15, 14) A\n",
      "(16, 15) G\n"
     ]
    }
   ],
   "source": [
    "for (i,j) in connect:\n",
    "    if value(instance.x[i,j]) >0:\n",
    "        print((i,j),connect[i,j])"
   ]
  },
  {
   "cell_type": "code",
   "execution_count": 8,
   "metadata": {},
   "outputs": [
    {
     "data": {
      "image/png": "[encoded data removed]",
      "text/plain": [
       "<Figure size 1152x576 with 1 Axes>"
      ]
     },
     "metadata": {
      "needs_background": "light"
     },
     "output_type": "display_data"
    }
   ],
   "source": [
    "plt.figure(figsize=(16,8))\n",
    "for i in range(N):\n",
    "    plt.scatter(i,9.5, s=100,c='k')\n",
    "    plt.text(i-0.12,9.5+0.06, s=S1[i], fontsize=20)\n",
    "    \n",
    "for j in range(M):\n",
    "    plt.scatter(j,9, s=100,c='k')\n",
    "    plt.text(j-0.1,9-0.1, s=S2[j], fontsize=20)\n",
    "    \n",
    "for (i,j) in connect:\n",
    "    if value(instance.x[i,j]) >0:\n",
    "        x1=i-1\n",
    "        y1=9.5\n",
    "        x2=j-1\n",
    "        y2=9\n",
    "        plt.plot([x1,x2],[y1,y2], zorder =-1)\n",
    "        plt.scatter(x1,y1, s=100,c='r')\n",
    "        plt.scatter(x2,y2, s=100,c='dodgerblue')\n",
    "                \n",
    "plt.ylim([8.5,10])\n",
    "plt.axis('off')\n",
    "plt.tight_layout()\n",
    "plt.savefig('LCS .png', format='png', dpi=400)\n"
   ]
  }
 ],
 "metadata": {
  "kernelspec": {
   "display_name": "Python 3",
   "language": "python",
   "name": "python3"
  },
  "language_info": {
   "codemirror_mode": {
    "name": "ipython",
    "version": 3
   },
   "file_extension": ".py",
   "mimetype": "text/x-python",
   "name": "python",
   "nbconvert_exporter": "python",
   "pygments_lexer": "ipython3",
   "version": "3.7.12"
  }
 },
 "nbformat": 4,
 "nbformat_minor": 4
}
