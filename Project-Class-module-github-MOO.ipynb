{
 "cells": [
  {
   "cell_type": "code",
   "execution_count": 1,
   "metadata": {},
   "outputs": [],
   "source": [
    "from pyomo.environ import *\n",
    "import matplotlib.pyplot as plt\n",
    "import numpy as np\n",
    "import random \n",
    "import pandas as pd"
   ]
  },
  {
   "cell_type": "code",
   "execution_count": 2,
   "metadata": {},
   "outputs": [],
   "source": [
    "req= [(7, 1),(8, 1),(7, 2),(7, 3),(7, 4),(15, 6),(13, 8),(15, 8)\n",
    ",(18, 9),(19, 9),(20, 9),(16, 10),(17, 10),(19, 12),(19, 14),(21, 16),(22, 16),(24, 16),(21, 17)\n",
    ",(25, 17),(26, 17),(28, 17),(23, 18),(26, 18),(27, 19),(28, 19),(25, 20),(27, 20),(32, 21),(29, 22)\n",
    ",(30, 22),(32, 22),(29, 23),(32, 23),(29, 24),(30, 24)\n",
    ",(31, 24),(29, 25),(32, 25),(31, 26),(29, 27),(30, 27),(31, 27),(30, 28),(32, 28)\n",
    ",(33, 29),(34, 29),(35, 29),(33, 31),(36, 31),(37, 31),(36, 32),(41, 33),(44, 33),(45, 33),(39, 34),(40, 35),(39, 36),(42, 37),(44, 37),(45, 37)\n",
    ",(40, 38),(41, 38),(43, 38),(44, 38),(47, 39),(46, 41),(47, 41),(47, 42),(49, 47)]"
   ]
  },
  {
   "cell_type": "code",
   "execution_count": 3,
   "metadata": {},
   "outputs": [
    {
     "data": {
      "text/plain": [
       "50"
      ]
     },
     "execution_count": 3,
     "metadata": {},
     "output_type": "execute_result"
    }
   ],
   "source": [
    "n_courses = 50\n",
    "n_periods = 10\n",
    "load_per_period_lb = 2\n",
    "load_per_period_ub = 100\n",
    "courses_per_period_lb = 2\n",
    "courses_per_period_ub = 10\n",
    "course_load = [3, 7, 6, 1, 3, 2, 5, 1, 7, 10, 4, 9, 9, 10, 6, 8, 4, 1, 10, 9, 8, 5, 10, 5, 9, 4, 1, 3, 3, 3, 2, 8, 9, 9, 8, 4, 10, 2, 4, 8, 1, 7, 7, 1, 8, 2, 10, 4, 4, 9, ]\n",
    "len(course_load)"
   ]
  },
  {
   "cell_type": "code",
   "execution_count": 4,
   "metadata": {},
   "outputs": [],
   "source": [
    "model = AbstractModel()\n",
    "model.i = RangeSet(n_courses)\n",
    "model.t = RangeSet(n_periods)\n",
    "model.dependency = Set(initialize=req)\n",
    "model.assign = Var(model.i, model.t, initialize = 0, within=Binary)\n",
    "model.maxload = Var(bounds=(0,100), initialize = 0, within=Reals)\n",
    "model.w1 = Param(mutable=True, initialize =1)\n",
    "model.w2 = Param(mutable=True, initialize =0)\n",
    "model.limit = Param(mutable=True, initialize =10000)\n",
    "\n",
    "\n",
    "def rule_load(model,i):\n",
    "    return course_load[i-1]\n",
    "model.L = Param(model.i, initialize = rule_load)\n",
    "\n",
    "def Rule_C0(model,i1,i2 ):\n",
    "    return sum(tt*model.assign[i1,tt] for tt in model.t) <= sum(tt*model.assign[i2,tt] for tt in model.t)\n",
    "model.C0=Constraint(model.dependency, rule=Rule_C0)\n",
    "\n",
    "def Rule_C1(model,i):\n",
    "    return sum(model.assign[i,t] for t in model.t) == 1\n",
    "model.C1=Constraint(model.i, rule=Rule_C1)\n",
    "\n",
    "def Rule_C2A(model,t):\n",
    "    return sum(model.assign[i,t] for i in model.i) <= courses_per_period_ub\n",
    "model.C2A=Constraint(model.t, rule=Rule_C2A)\n",
    "\n",
    "def Rule_C2AL(model,t):\n",
    "    return sum(model.L[i]* model.assign[i,t] for i in model.i) <= load_per_period_ub\n",
    "model.C2AL=Constraint(model.t, rule=Rule_C2AL)\n",
    "\n",
    "def Rule_C2B(model,t):\n",
    "    return sum(model.assign[i,t] for i in model.i) >= courses_per_period_lb\n",
    "model.C2B=Constraint(model.t, rule=Rule_C2B)\n",
    "\n",
    "def Rule_C2BL(model,t):\n",
    "    return sum(model.L[i]* model.assign[i,t] for i in model.i) >= load_per_period_lb\n",
    "model.C2BL=Constraint(model.t, rule=Rule_C2BL)\n",
    "\n",
    "def Rule_C3(model,t):\n",
    "    return sum(model.L[i]* model.assign[i,t] for i in model.i) <= model.maxload\n",
    "model.C3=Constraint(model.t, rule=Rule_C3)\n",
    "\n",
    "\n",
    "def Rule_C4(model):\n",
    "    return sum(t*model.L[i]* model.assign[i,t] for i in model.i for t in model.t) <= model.limit\n",
    "model.C4=Constraint( rule=Rule_C4)\n",
    "\n",
    "\n",
    "def rule_OF(model):\n",
    "    return model.w1*model.maxload + model.w2*sum(t*model.L[i]* model.assign[i,t] for i in model.i for t in model.t) #OF2 \n",
    "\n",
    "model.obj1 = Objective(rule=rule_OF, sense=minimize)"
   ]
  },
  {
   "cell_type": "code",
   "execution_count": 5,
   "metadata": {},
   "outputs": [],
   "source": [
    "opt = SolverFactory('cbc')\n",
    "instance = model.create_instance()  \n"
   ]
  },
  {
   "cell_type": "code",
   "execution_count": 6,
   "metadata": {},
   "outputs": [
    {
     "name": "stdout",
     "output_type": "stream",
     "text": [
      "min OF1 =  29.0\n",
      "max OF2 =  1543.0\n"
     ]
    }
   ],
   "source": [
    "instance.w1 =1 \n",
    "instance.w2 =0 \n",
    "results = opt.solve(instance) # solves and updates instance\n",
    "minOF1 = value(instance.maxload)\n",
    "maxOF2 = value(sum(t*instance.L[i]* instance.assign[i,t] for i in instance.i for t in instance.t) )\n",
    "      \n",
    "print('min OF1 = ', minOF1 )\n",
    "print('max OF2 = ', maxOF2 )\n",
    "\n"
   ]
  },
  {
   "cell_type": "code",
   "execution_count": 7,
   "metadata": {},
   "outputs": [
    {
     "name": "stdout",
     "output_type": "stream",
     "text": [
      "max OF1 =  76.0\n",
      "min OF2 =  838.0\n"
     ]
    }
   ],
   "source": [
    "instance.w1 =0 \n",
    "instance.w2 =1 \n",
    "results = opt.solve(instance) # solves and updates instance\n",
    "maxOF1 = value(instance.maxload)\n",
    "minOF2 = value(sum(t*instance.L[i]* instance.assign[i,t] for i in instance.i for t in instance.t) )\n",
    "      \n",
    "print('max OF1 = ', maxOF1 )\n",
    "print('min OF2 = ', minOF2 )\n"
   ]
  },
  {
   "cell_type": "code",
   "execution_count": 14,
   "metadata": {},
   "outputs": [
    {
     "name": "stdout",
     "output_type": "stream",
     "text": [
      "OF1 = 76.0 , OF2 = 838.0  , limit = 838.0\n",
      "OF1 = 62.0 , OF2 = 873.0  , limit = 873.25\n",
      "OF1 = 58.0 , OF2 = 908.0  , limit = 908.5\n",
      "OF1 = 55.0 , OF2 = 942.0  , limit = 943.75\n",
      "OF1 = 51.0 , OF2 = 979.0  , limit = 979.0\n",
      "OF1 = 49.0 , OF2 = 1012.0  , limit = 1014.25\n",
      "OF1 = 47.0 , OF2 = 1043.0  , limit = 1049.5\n",
      "OF1 = 44.0 , OF2 = 1084.0  , limit = 1084.75\n",
      "OF1 = 43.0 , OF2 = 1120.0  , limit = 1120.0\n",
      "OF1 = 41.0 , OF2 = 1154.0  , limit = 1155.25\n",
      "OF1 = 39.0 , OF2 = 1190.0  , limit = 1190.5\n",
      "OF1 = 38.0 , OF2 = 1225.0  , limit = 1225.75\n",
      "OF1 = 37.0 , OF2 = 1251.0  , limit = 1261.0\n",
      "OF1 = 35.0 , OF2 = 1296.0  , limit = 1296.25\n",
      "OF1 = 34.0 , OF2 = 1331.0  , limit = 1331.5\n",
      "OF1 = 33.0 , OF2 = 1366.0  , limit = 1366.75\n",
      "OF1 = 32.0 , OF2 = 1399.0  , limit = 1402.0\n",
      "OF1 = 31.0 , OF2 = 1436.0  , limit = 1437.25\n",
      "OF1 = 31.0 , OF2 = 1453.0  , limit = 1472.5\n",
      "OF1 = 30.0 , OF2 = 1492.0  , limit = 1507.75\n",
      "OF1 = 29.0 , OF2 = 1539.0  , limit = 1543.0\n"
     ]
    }
   ],
   "source": [
    "N = 20\n",
    "OF1_vec = [] \n",
    "OF2_vec = [] \n",
    "\n",
    "instance.w1 =1 \n",
    "instance.w2 =0 \n",
    "for counter in range(N+1):\n",
    "    limit = (maxOF2-minOF2)*counter/N + minOF2\n",
    "    instance.limit = limit \n",
    "    results = opt.solve(instance) # solves and updates instance\n",
    "    OF1 = value(instance.maxload)\n",
    "    OF2 = value(sum(t*instance.L[i]* instance.assign[i,t] for i in instance.i for t in instance.t) )\n",
    "    OF1_vec.append(OF1)  \n",
    "    OF2_vec.append(OF2)\n",
    "    print(f\"OF1 = {OF1} , OF2 = {OF2}  , limit = {limit}\")"
   ]
  },
  {
   "cell_type": "code",
   "execution_count": 15,
   "metadata": {},
   "outputs": [
    {
     "data": {
      "image/png": "[encoded data removed]",
      "text/plain": [
       "<Figure size 720x360 with 1 Axes>"
      ]
     },
     "metadata": {
      "needs_background": "light"
     },
     "output_type": "display_data"
    }
   ],
   "source": [
    "KOLOR = ['r', 'k', 'b', 'g', 'gold', 'pink','dodgerblue','orange','brown','olive']\n",
    "\n",
    "plt.figure(figsize=(10,5))\n",
    "plt.xlabel('OF1', fontsize=14, fontweight = 'bold')\n",
    "plt.ylabel('OF2', fontsize=14, fontweight = 'bold')\n",
    "plt.xticks(fontsize=14, fontweight = 'bold')\n",
    "plt.yticks(fontsize=14, fontweight = 'bold')\n",
    "\n",
    "plt.scatter(OF1_vec,OF2_vec, s=100)\n",
    "Yi = [i for i in instance.i]\n",
    "plt.grid()\n",
    "plt.savefig('Pareto'+  ' .png', format='png', dpi=200)\n",
    "plt.show()\n"
   ]
  },
  {
   "cell_type": "code",
   "execution_count": null,
   "metadata": {},
   "outputs": [],
   "source": []
  }
 ],
 "metadata": {
  "kernelspec": {
   "display_name": "Python 3",
   "language": "python",
   "name": "python3"
  },
  "language_info": {
   "codemirror_mode": {
    "name": "ipython",
    "version": 3
   },
   "file_extension": ".py",
   "mimetype": "text/x-python",
   "name": "python",
   "nbconvert_exporter": "python",
   "pygments_lexer": "ipython3",
   "version": "3.7.12"
  }
 },
 "nbformat": 4,
 "nbformat_minor": 4
}
