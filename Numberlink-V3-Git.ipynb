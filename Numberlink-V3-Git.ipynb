{
 "cells": [
  {
   "cell_type": "code",
   "execution_count": 25,
   "metadata": {},
   "outputs": [],
   "source": [
    "from pyomo.environ import *\n",
    "import matplotlib.pyplot as plt\n",
    "import numpy as np\n",
    "import time\n",
    "import pandas as pd\n",
    "import random\n",
    "from pyomo import environ as pe\n",
    "import os\n",
    "os.environ['NEOS_EMAIL'] = 'XXXX@gmail.com' "
   ]
  },
  {
   "cell_type": "code",
   "execution_count": 26,
   "metadata": {},
   "outputs": [
    {
     "data": {
      "text/plain": [
       "64"
      ]
     },
     "execution_count": 26,
     "metadata": {},
     "output_type": "execute_result"
    }
   ],
   "source": [
    "df = pd.read_csv('numberlinkv2.csv')\n",
    "\n",
    "df\n",
    "data = {}\n",
    "for row in range(len(df)):\n",
    "    S= [s for s in df.loc[row,'Data'] ]\n",
    "    D= {(row,c):S[c] for c in range(len(S)) }\n",
    "    data.update(D)  \n",
    "len(data)"
   ]
  },
  {
   "cell_type": "code",
   "execution_count": 27,
   "metadata": {},
   "outputs": [
    {
     "data": {
      "text/plain": [
       "{'B': [5, 56],\n",
       " 'I': [30, 64],\n",
       " 'C': [11, 44],\n",
       " 'E': [13, 15],\n",
       " 'H': [29, 55],\n",
       " 'F': [19, 50],\n",
       " 'G': [27, 52],\n",
       " 'A': [1, 4],\n",
       " 'D': [12, 37]}"
      ]
     },
     "execution_count": 27,
     "metadata": {},
     "output_type": "execute_result"
    }
   ],
   "source": [
    "loc = {}\n",
    "n = 0 \n",
    "for (r,c),v in data.items():\n",
    "    n+=1\n",
    "    loc[n,'x'] = r\n",
    "    loc[n,'y'] = c\n",
    "    loc[n,'v'] = v\n",
    "    \n",
    "dictintc = set([v for (r,c),v in data.items()])\n",
    "dictintc.remove('.')\n",
    "\n",
    "Nloc = {s:[] for s in dictintc}\n",
    "nodes = range(1,len(data)+1)\n",
    "for n in nodes:\n",
    "    if loc[n,'v'] in Nloc:\n",
    "        v =loc[n,'v']\n",
    "        Nloc[v]+= [n]\n",
    "Nloc"
   ]
  },
  {
   "cell_type": "code",
   "execution_count": 28,
   "metadata": {},
   "outputs": [],
   "source": [
    "allowed = {}\n",
    "for n in nodes:\n",
    "    for m in nodes:\n",
    "        con1 = abs(loc[n,'x']-loc[m,'x']) == 1\n",
    "        con2 = abs(loc[n,'y']-loc[m,'y']) == 1 \n",
    "        con3 = (abs(loc[n,'x']-loc[m,'x'])* abs(loc[n,'y']-loc[m,'y'])) == 0\n",
    "        if (con1 or con2) and con3:\n",
    "            allowed[n,m] = 1 "
   ]
  },
  {
   "cell_type": "code",
   "execution_count": 29,
   "metadata": {},
   "outputs": [
    {
     "data": {
      "text/plain": [
       "(224, 9, 576)"
      ]
     },
     "execution_count": 29,
     "metadata": {},
     "output_type": "execute_result"
    }
   ],
   "source": [
    "len(allowed), len(dictintc) , len(Nloc)*len(data)"
   ]
  },
  {
   "cell_type": "code",
   "execution_count": 30,
   "metadata": {},
   "outputs": [],
   "source": [
    "N = len(nodes)\n",
    "model = AbstractModel()\n",
    "model.i = RangeSet(N)\n",
    "model.j = Set(initialize=model.i)\n",
    "model.S = Set(initialize=list(dictintc) )\n",
    "model.flow = Var(model.i,model.j,model.S,bounds=(0,1), within = Reals)\n",
    "model.source = Var(model.i,model.S,bounds=(0,1), within = Reals)\n",
    "model.assign = Var(model.i,model.S, within = Binary)\n",
    "\n",
    "def rule_C0(model,i):\n",
    "    return  sum(model.assign[i,s] for s in model.S) <= 1 \n",
    "model.C0 = Constraint(model.i, rule=rule_C0)\n",
    "\n",
    "def rule_C1(model,i,s):\n",
    "    return  model.source[i,s] - model.assign[i,s]/N == sum(model.flow[i,j,s]-model.flow[j,i,s] \n",
    "                                                           for j in model.j \n",
    "                                                           if (i,j) in allowed )\n",
    "model.C1 = Constraint(model.i,model.S, rule=rule_C1)\n",
    "\n",
    "\n",
    "def rule_C2A(model,i,j,s):\n",
    "    if (i,j) in allowed:\n",
    "        return  model.flow[i,j,s] <= model.assign[i,s] \n",
    "    else:\n",
    "        return Constraint.Skip\n",
    "model.C2A = Constraint(model.i,model.j, model.S, rule=rule_C2A)\n",
    "\n",
    "def rule_C2B(model,i,j,s):\n",
    "    if (i,j) in allowed:\n",
    "        return  model.flow[i,j,s] <= model.assign[j,s] \n",
    "    else:\n",
    "        return Constraint.Skip\n",
    "model.C2B = Constraint(model.i,model.j, model.S, rule=rule_C2B)\n",
    "\n",
    "\n",
    "def rule_of(model):\n",
    "    return sum(model.assign[i,s] for i in model.i for s in model.S)"
   ]
  },
  {
   "cell_type": "code",
   "execution_count": 32,
   "metadata": {},
   "outputs": [
    {
     "name": "stdout",
     "output_type": "stream",
     "text": [
      "WARNING: Implicitly replacing the Component attribute obj (type=<class\n",
      "    'pyomo.core.base.objective.ScalarObjective'>) on block unknown with a new\n",
      "    Component (type=<class 'pyomo.core.base.objective.ScalarObjective'>). This\n",
      "    is usually indicative of a modelling error. To avoid this warning, use\n",
      "    block.del_component() and block.add_component().\n"
     ]
    }
   ],
   "source": [
    "model.obj = Objective(rule=rule_of, sense=minimize)\n",
    "instance = model.create_instance()\n",
    "for i in instance.i:\n",
    "    for s in instance.S:\n",
    "        if i in Nloc[s]:\n",
    "            instance.assign[i,s].fix(1)  \n",
    "        if i != Nloc[s][0]:\n",
    "            instance.source[i,s].fix(0)\n",
    "        #\"\"\"\n",
    "opt = SolverFactory('cbc')\n",
    "opt.options = {'sec': 600, 'threads': 4, 'ratio': 0.2}\n",
    "#opt = pe.SolverManagerFactory('neos')\n",
    "#results = opt.solve(instance, solver = \"cplex\", options={'mipgap':0.15})\n",
    "results = opt.solve(instance)  "
   ]
  },
  {
   "cell_type": "code",
   "execution_count": 34,
   "metadata": {},
   "outputs": [
    {
     "data": {
      "image/png": "[encoded data removed]",
      "text/plain": [
       "<Figure size 720x720 with 1 Axes>"
      ]
     },
     "metadata": {
      "needs_background": "light"
     },
     "output_type": "display_data"
    }
   ],
   "source": [
    "colors = [\"#1f77b4\", \"#ff7f0e\", \"#2ca02c\", \"#d62728\", \"#9467bd\",\n",
    "            \"#8c564b\", \"#e377c2\", \"#7f7f7f\", \"#bcbd22\", \"#17becf\",\n",
    "            \"#aec7e8\", \"#ffbb78\", \"#98df8a\", \"#ff9896\", \"#c5b0d5\",\n",
    "            \"#c49c94\", \"#f7b6d2\", \"#c7c7c7\", \"#dbdb8d\", \"#9edae5\",\n",
    "            \"#8c6d31\", \"#9c9ede\", \"#637939\", \"#e7cb94\", \"#b5cf6b\",\n",
    "            \"#cedb9c\", \"#c7c7c7\", \"#bd9e39\", \"#e7969c\", \"#7b4173\"]\n",
    "\n",
    "names = [s for s in instance.S]\n",
    "plt.figure(figsize=(10,10))\n",
    "plt.grid()\n",
    "for s in instance.S:    \n",
    "    for (i,j) in allowed:\n",
    "        if value(instance.flow[i,j,s])>0:\n",
    "            #print(value(instance.assign[i,s]) ,value(instance.assign[j,s]) )\n",
    "            x1,y1 = loc[i,'x'], loc[i,'y']\n",
    "            x2,y2 = loc[j,'x'], loc[j,'y']\n",
    "            indx=names.index(s)\n",
    "            plt.plot([x1,x2],[y1,y2], c=colors[indx], lw=5 )\n",
    "            plt.scatter(x1,y1,s=1000, marker= 's', c=colors[indx])\n",
    "            plt.scatter(x2,y2,s=1000, marker= 's', c=colors[indx])\n",
    "for i in instance.i:\n",
    "    x1,y1 = loc[i,'x'], loc[i,'y']\n",
    "    plt.text(x1-0.2,y1-0.2, s=str(i), fontweight='bold', fontsize=10, c='w')\n",
    "    for s in instance.S:\n",
    "        if i in Nloc[s]:\n",
    "            x1,y1 = loc[i,'x'], loc[i,'y']\n",
    "            plt.text(x1-0.1,y1-0.1, s=s, fontweight='bold', fontsize=22, c='w')"
   ]
  }
 ],
 "metadata": {
  "kernelspec": {
   "display_name": "Python 3",
   "language": "python",
   "name": "python3"
  },
  "language_info": {
   "codemirror_mode": {
    "name": "ipython",
    "version": 3
   },
   "file_extension": ".py",
   "mimetype": "text/x-python",
   "name": "python",
   "nbconvert_exporter": "python",
   "pygments_lexer": "ipython3",
   "version": "3.7.12"
  }
 },
 "nbformat": 4,
 "nbformat_minor": 4
}
