{
 "cells": [
  {
   "cell_type": "code",
   "execution_count": 1,
   "metadata": {},
   "outputs": [],
   "source": [
    "from pyomo.environ import *\n",
    "import matplotlib.pyplot as plt\n",
    "import numpy as np\n",
    "import random \n",
    "import operator\n",
    "import pandas as pd\n",
    "from skimage.transform import rescale, resize, downscale_local_mean\n",
    "\n",
    "from matplotlib.image import imread"
   ]
  },
  {
   "cell_type": "code",
   "execution_count": 2,
   "metadata": {},
   "outputs": [],
   "source": [
    "dic = {}\n",
    "M =6\n",
    "n=0\n",
    "for i in range(1,M+1):\n",
    "    for j in range(1,M+1):\n",
    "        n+=1\n",
    "        dic[n,'x'] =i\n",
    "        dic[n,'y'] =j  \n",
    "N = n "
   ]
  },
  {
   "cell_type": "code",
   "execution_count": 3,
   "metadata": {},
   "outputs": [],
   "source": [
    "def dist(i,j):\n",
    "    return sqrt( (dic[i,'x']-dic[j,'x'])**2 +  (dic[i,'y']-dic[j,'y'])**2  )\n",
    "connect = {}\n",
    "for i in range(1,1+N):\n",
    "    for j in range(1,1+N):\n",
    "        if dist(i,j) ==1:\n",
    "            connect[i,j] = 1"
   ]
  },
  {
   "cell_type": "code",
   "execution_count": 4,
   "metadata": {},
   "outputs": [],
   "source": [
    "upper_bound = {}\n",
    "for i in range(1,1+N):\n",
    "    upper_bound[i] = 1 + sum(1 for j in range(1,1+N) if (i,j) in connect)\n",
    "\n",
    "Nmax = max(upper_bound.values())"
   ]
  },
  {
   "cell_type": "code",
   "execution_count": 5,
   "metadata": {},
   "outputs": [
    {
     "name": "stdout",
     "output_type": "stream",
     "text": [
      "4 4\n",
      "6 3\n"
     ]
    }
   ],
   "source": [
    "for j in range(1,9):\n",
    "    if (5,j) in connect: # and 5<=upper_bound[j]:\n",
    "        print(j, upper_bound[j])"
   ]
  },
  {
   "cell_type": "code",
   "execution_count": 6,
   "metadata": {},
   "outputs": [],
   "source": [
    "model = AbstractModel()\n",
    "model.i = RangeSet(N)\n",
    "model.j = Set(initialize= model.i)\n",
    "model.n = RangeSet(Nmax)\n",
    "def rule_w(model,i,j):\n",
    "    return connect.get((i,j),0)\n",
    "model.w = Param(model.i,model.j,initialize= rule_w)\n",
    "model.y = Var(model.i, model.n, domain = Binary)\n",
    "\n",
    "def rule_c2(model,i):\n",
    "    return sum(model.y[i,n] for n in model.n if n <= upper_bound[i] ) ==1\n",
    "model.C2 = Constraint(model.i, rule=rule_c2)\n",
    "\n",
    "def rule_c3(model,i,n):\n",
    "    if n <= upper_bound[i] and sum(1 for j in model.j if (i,j) in connect and n<=upper_bound[j] )>0 and sum(1 for m in model.n if n<m <= upper_bound[i]):\n",
    "        return sum(model.y[j,n] for j in model.j if (i,j) in connect and n<=upper_bound[j] ) >= sum(model.y[i,m] for m in model.n if n<m <= upper_bound[i])\n",
    "    else:\n",
    "        return Constraint.Skip\n",
    "model.C3 = Constraint(model.i, model.n, rule=rule_c3)\n",
    "\n",
    "def rule_OF(model):\n",
    "    return sum( n*model.y[i,n] for n in model.n for i in model.i if n <=upper_bound[i] )\n",
    "\n",
    "model.obj1 = Objective(rule=rule_OF, sense=maximize)"
   ]
  },
  {
   "cell_type": "code",
   "execution_count": 7,
   "metadata": {},
   "outputs": [],
   "source": [
    "opt = SolverFactory('cbc')\n",
    "opt.options = {'sec': 300, 'threads': 6, 'ratio': 0.05}\n",
    "\n",
    "instance = model.create_instance()  "
   ]
  },
  {
   "cell_type": "code",
   "execution_count": 8,
   "metadata": {},
   "outputs": [
    {
     "name": "stdout",
     "output_type": "stream",
     "text": [
      "this is feasible and optimal\n",
      "93.0\n"
     ]
    }
   ],
   "source": [
    "results = opt.solve(instance) # solves and updates instance\n",
    "from pyomo.opt import SolverStatus, TerminationCondition\n",
    "if (results.solver.status == SolverStatus.ok) and (results.solver.termination_condition == TerminationCondition.optimal):\n",
    "     print (\"this is feasible and optimal\")\n",
    "elif results.solver.termination_condition == TerminationCondition.infeasible:\n",
    "     print (\"do something about it? or exit?\")\n",
    "else:\n",
    "     print ('ERROR ' + str(results.solver))\n",
    "print(value(instance.obj1) )"
   ]
  },
  {
   "cell_type": "code",
   "execution_count": 9,
   "metadata": {},
   "outputs": [
    {
     "data": {
      "image/png": "[encoded data removed]",
      "text/plain": [
       "<Figure size 576x576 with 1 Axes>"
      ]
     },
     "metadata": {
      "needs_background": "light"
     },
     "output_type": "display_data"
    }
   ],
   "source": [
    "plt.figure(figsize=(8,8))\n",
    "KOLOR = ['r', 'k', 'dodgerblue', 'g', 'gold', 'pink','dodgerblue','orange','brown','olive']\n",
    "\n",
    "for i in instance.i:\n",
    "    m = int(value(sum(n*instance.y[i,n] for n in instance.n if n <=upper_bound[i] ) ))\n",
    "    plt.scatter(dic[i,'x'], dic[i,'y'], s= 2000 , marker ='s', c=KOLOR[m-1])\n",
    "    plt.text(dic[i,'x']-0.08, dic[i,'y']-0.02, s= str(m) , c='w', fontsize=20, fontweight='bold')\n",
    "\n",
    "plt.axis('off')\n",
    "plt.savefig('neighbors '+ str(Nmax)+  ' .png', format='png', dpi=200)\n",
    "\n",
    "plt.show()"
   ]
  }
 ],
 "metadata": {
  "kernelspec": {
   "display_name": "Python 3",
   "language": "python",
   "name": "python3"
  },
  "language_info": {
   "codemirror_mode": {
    "name": "ipython",
    "version": 3
   },
   "file_extension": ".py",
   "mimetype": "text/x-python",
   "name": "python",
   "nbconvert_exporter": "python",
   "pygments_lexer": "ipython3",
   "version": "3.7.12"
  }
 },
 "nbformat": 4,
 "nbformat_minor": 4
}
