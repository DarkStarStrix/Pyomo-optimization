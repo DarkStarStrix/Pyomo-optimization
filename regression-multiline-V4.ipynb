{
 "cells": [
  {
   "cell_type": "code",
   "execution_count": 1,
   "metadata": {},
   "outputs": [],
   "source": [
    "from pyomo.environ import *\n",
    "import matplotlib.pyplot as plt\n",
    "import numpy as np\n",
    "import random \n",
    "import operator\n",
    "from pyomo import environ as pe\n",
    "import os\n",
    "import pandas as pd"
   ]
  },
  {
   "cell_type": "code",
   "execution_count": 2,
   "metadata": {},
   "outputs": [],
   "source": [
    "df=pd.DataFrame()\n",
    "N = 20\n",
    "df['x'] = [random.random() for i in range(N)]\n",
    "df['y'] = [random.random() for i in range(N)]"
   ]
  },
  {
   "cell_type": "code",
   "execution_count": 3,
   "metadata": {},
   "outputs": [
    {
     "data": {
      "image/png": "[encoded data removed]",
      "text/plain": [
       "<Figure size 576x576 with 1 Axes>"
      ]
     },
     "metadata": {
      "needs_background": "light"
     },
     "output_type": "display_data"
    }
   ],
   "source": [
    "\n",
    "plt.figure(figsize=(8,8))\n",
    "plt.scatter(df['x'], df['y'], s= 100)\n",
    "plt.xlim(-0.1,1.05)\n",
    "plt.ylim(-0.1,1.05)\n",
    "plt.xlabel('  X values ', fontsize=12, fontweight='bold')\n",
    "plt.ylabel('  Y values ', fontsize=12, fontweight='bold')\n",
    "plt.xticks( fontsize=12, fontweight='bold')\n",
    "plt.yticks( fontsize=12, fontweight='bold')\n",
    "plt.grid()\n",
    "plt.tight_layout()\n",
    "\n",
    "plt.savefig('Dots '+  '.jpg', format='jpg', dpi=400)\n"
   ]
  },
  {
   "cell_type": "code",
   "execution_count": null,
   "metadata": {},
   "outputs": [],
   "source": [
    "BM= 4\n",
    "K= 3\n",
    "M = 3\n",
    "plt.figure(figsize=(8,8))\n",
    "counter =0 \n",
    "for M in [3]:\n",
    "    for K in [3]:\n",
    "        counter +=1\n",
    "        model = AbstractModel()\n",
    "        model.i = RangeSet(N)\n",
    "        model.m = RangeSet(M)\n",
    "        model.k = RangeSet(K) # number of lines \n",
    "        model.target = Param(model.i, initialize=0, mutable=True)\n",
    "        model.r = Var(model.i,bounds=(0, 1000) , within = Reals)\n",
    "        model.c = Var(model.k, model.m, bounds=(-100, 100) , within = Reals)\n",
    "        model.U = Var(model.i, model.k,bounds=(0, 1) , within = Binary)\n",
    "        def rule_C1(model,i,k):\n",
    "            return sum(model.c[k,m]*df.loc[i-1,'x']**(m-1) for m in model.m ) - df.loc[i-1,'y'] <= model.r[i] + BM*(1-model.U[i,k])\n",
    "        model.C1 = Constraint(model.i, model.k, rule=rule_C1)\n",
    "        def rule_C2(model,i,k):\n",
    "            return sum(model.c[k,m]*df.loc[i-1,'x']**(m-1) for m in model.m ) - df.loc[i-1,'y'] >= -model.r[i] - BM*(1-model.U[i,k])\n",
    "        model.C2 = Constraint(model.i,model.k,  rule=rule_C2)\n",
    "        def rule_C3(model,i):\n",
    "            return sum(model.U[i,k] for k in model.k) == 1\n",
    "        model.C3 = Constraint(model.i,  rule=rule_C3)\n",
    "        def rule_C4(model,k):\n",
    "            if k>1:\n",
    "                return sum(model.U[i,k-1] for i in model.i) <= sum(model.U[i,k] for i in model.i)\n",
    "            else:\n",
    "                return Constraint.Skip\n",
    "        model.C4 = Constraint(model.k,  rule=rule_C4)\n",
    "        \n",
    "        def rule_C5(model,k):\n",
    "            return sum(model.U[i,k] for i in model.i) >= 1\n",
    "        model.C5 = Constraint(model.k,  rule=rule_C5)\n",
    "        \n",
    "        def rule_of(model):\n",
    "            return sum(model.r[i] for i in model.i)\n",
    "        model.obj = Objective(rule=rule_of, sense=minimize)\n",
    "\n",
    "        instance = model.create_instance()\n",
    "        #solver_manager = pe.SolverManagerFactory('neos')\n",
    "        #results = solver_manager.solve(instance, solver='cplex', options={'mipgap':0.5})\n",
    "        \n",
    "        opt = SolverFactory('cbc')\n",
    "        opt.options = {'sec': 360, 'threads': 2, 'ratio': 0.5}\n",
    "        results = opt.solve(instance)\n",
    "\n",
    "\n",
    "        print('OF= ',value(instance.obj))\n",
    "        plt.scatter(df['x'], df['y'], s= 100)\n",
    "\n",
    "        for k in instance.k:\n",
    "            X=np.linspace(0,1,100)\n",
    "            Y = [sum(value(instance.c[k,m])*x**(m-1) for m in instance.m ) for x in X ]\n",
    "            plt.plot(X,Y)\n",
    "            xdata = [df.loc[i-1,'x'] for i in instance.i if value(instance.U[i,k])>0]\n",
    "            ydata = [df.loc[i-1,'y'] for i in instance.i if value(instance.U[i,k])>0]\n",
    "            plt.scatter(xdata,ydata, s= 100, zorder =2)\n",
    "\n",
    "\n",
    "        plt.xlim(-0.1,1.05)\n",
    "        plt.ylim(-0.1,1.05)\n",
    "        plt.xlabel('  X values ', fontsize=12, fontweight='bold')\n",
    "        plt.ylabel('  Y values ', fontsize=12, fontweight='bold')\n",
    "        plt.xticks( fontsize=12, fontweight='bold')\n",
    "        plt.yticks( fontsize=12, fontweight='bold')\n",
    "        plt.grid()\n",
    "        plt.tight_layout()\n",
    "        plt.savefig('Multi-line ' + str(K+(M-1)*3)+  '.jpg', format='jpg', dpi=400)\n",
    "        \n",
    "\n",
    "plt.savefig('Multi-line '+  '.jpg', format='jpg', dpi=400)\n",
    "\n"
   ]
  },
  {
   "cell_type": "code",
   "execution_count": null,
   "metadata": {
    "scrolled": false
   },
   "outputs": [],
   "source": []
  },
  {
   "cell_type": "code",
   "execution_count": null,
   "metadata": {},
   "outputs": [],
   "source": []
  }
 ],
 "metadata": {
  "kernelspec": {
   "display_name": "Python 3",
   "language": "python",
   "name": "python3"
  },
  "language_info": {
   "codemirror_mode": {
    "name": "ipython",
    "version": 3
   },
   "file_extension": ".py",
   "mimetype": "text/x-python",
   "name": "python",
   "nbconvert_exporter": "python",
   "pygments_lexer": "ipython3",
   "version": "3.7.12"
  }
 },
 "nbformat": 4,
 "nbformat_minor": 4
}
