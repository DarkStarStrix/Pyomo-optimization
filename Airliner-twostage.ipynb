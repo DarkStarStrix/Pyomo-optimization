{
 "cells": [
  {
   "cell_type": "code",
   "execution_count": 1,
   "metadata": {},
   "outputs": [],
   "source": [
    "from pyomo.environ import *\n",
    "import matplotlib.pyplot as plt\n",
    "import pandas as pd\n",
    "import numpy as np \n",
    "import random"
   ]
  },
  {
   "cell_type": "code",
   "execution_count": 2,
   "metadata": {},
   "outputs": [
    {
     "data": {
      "text/html": [
       "<div>\n",
       "<style scoped>\n",
       "    .dataframe tbody tr th:only-of-type {\n",
       "        vertical-align: middle;\n",
       "    }\n",
       "\n",
       "    .dataframe tbody tr th {\n",
       "        vertical-align: top;\n",
       "    }\n",
       "\n",
       "    .dataframe thead th {\n",
       "        text-align: right;\n",
       "    }\n",
       "</style>\n",
       "<table border=\"1\" class=\"dataframe\">\n",
       "  <thead>\n",
       "    <tr style=\"text-align: right;\">\n",
       "      <th></th>\n",
       "      <th>V</th>\n",
       "      <th>Prob</th>\n",
       "      <th>F</th>\n",
       "      <th>B</th>\n",
       "      <th>E</th>\n",
       "      <th>Space</th>\n",
       "      <th>Value</th>\n",
       "    </tr>\n",
       "  </thead>\n",
       "  <tbody>\n",
       "    <tr>\n",
       "      <th>0</th>\n",
       "      <td>S1</td>\n",
       "      <td>0.15</td>\n",
       "      <td>25</td>\n",
       "      <td>60</td>\n",
       "      <td>210</td>\n",
       "      <td>2.0</td>\n",
       "      <td>1600.0</td>\n",
       "    </tr>\n",
       "    <tr>\n",
       "      <th>1</th>\n",
       "      <td>S2</td>\n",
       "      <td>0.30</td>\n",
       "      <td>12</td>\n",
       "      <td>30</td>\n",
       "      <td>170</td>\n",
       "      <td>1.5</td>\n",
       "      <td>1100.0</td>\n",
       "    </tr>\n",
       "    <tr>\n",
       "      <th>2</th>\n",
       "      <td>S3</td>\n",
       "      <td>0.30</td>\n",
       "      <td>5</td>\n",
       "      <td>9</td>\n",
       "      <td>150</td>\n",
       "      <td>1.0</td>\n",
       "      <td>500.0</td>\n",
       "    </tr>\n",
       "    <tr>\n",
       "      <th>3</th>\n",
       "      <td>S4</td>\n",
       "      <td>0.15</td>\n",
       "      <td>7</td>\n",
       "      <td>20</td>\n",
       "      <td>120</td>\n",
       "      <td>NaN</td>\n",
       "      <td>NaN</td>\n",
       "    </tr>\n",
       "    <tr>\n",
       "      <th>4</th>\n",
       "      <td>S5</td>\n",
       "      <td>0.10</td>\n",
       "      <td>20</td>\n",
       "      <td>18</td>\n",
       "      <td>160</td>\n",
       "      <td>NaN</td>\n",
       "      <td>NaN</td>\n",
       "    </tr>\n",
       "  </tbody>\n",
       "</table>\n",
       "</div>"
      ],
      "text/plain": [
       "    V  Prob   F   B    E  Space   Value\n",
       "0  S1  0.15  25  60  210    2.0  1600.0\n",
       "1  S2  0.30  12  30  170    1.5  1100.0\n",
       "2  S3  0.30   5   9  150    1.0   500.0\n",
       "3  S4  0.15   7  20  120    NaN     NaN\n",
       "4  S5  0.10  20  18  160    NaN     NaN"
      ]
     },
     "execution_count": 2,
     "metadata": {},
     "output_type": "execute_result"
    }
   ],
   "source": [
    "df = pd.read_csv(\"Airliner-v2.csv\", delimiter=',', skiprows=0, low_memory=False)\n",
    "df"
   ]
  },
  {
   "cell_type": "code",
   "execution_count": 3,
   "metadata": {},
   "outputs": [],
   "source": [
    "Nspace=200\n",
    "model = AbstractModel()\n",
    "model.s = RangeSet(1,5)\n",
    "model.clas = RangeSet(1,3)\n",
    "model.x = Var(model.clas, initialize=0, bounds=(0,Nspace),domain=NonNegativeIntegers)\n",
    "model.S = Var(model.s,model.clas, initialize=0, bounds=(0,Nspace),domain=NonNegativeIntegers)\n",
    "\n",
    "model.E = Var( initialize=0, bounds=(0,1000000),domain=Reals)\n",
    "\n",
    "model.pr =Param(model.s,mutable=True, initialize=1) \n",
    "model.V =Param(model.clas,mutable=True, initialize=1) \n",
    "model.coef =Param(model.clas,mutable=True, initialize=1) \n",
    "def rue_c1(model):\n",
    "    return sum(model.coef[c]*model.x[c] for c in model.clas)<=Nspace\n",
    "model.C1 =Constraint(rule=rue_c1)\n",
    "def rue_c2(model,s,c):\n",
    "    return model.S[s,c] <= df.iloc[s-1,c+1]\n",
    "model.C2 =Constraint(model.s, model.clas,rule=rue_c2)\n",
    "def rue_c2A(model,s,c):\n",
    "    return model.S[s,c] <= model.x[c]\n",
    "model.C2A =Constraint(model.s,model.clas,rule=rue_c2A)\n",
    "\n",
    "def rue_c3A(model):\n",
    "    return model.E==sum(model.pr[s]*model.V[c]*model.S[s,c] for s in model.s for c in model.clas)\n",
    "model.C3A =Constraint(rule=rue_c3A)\n",
    "\n",
    "model.obj = Objective(rule= model.E, sense=maximize)"
   ]
  },
  {
   "cell_type": "code",
   "execution_count": 4,
   "metadata": {},
   "outputs": [
    {
     "name": "stdout",
     "output_type": "stream",
     "text": [
      "this is feasible and optimal\n"
     ]
    }
   ],
   "source": [
    "instance = model.create_instance()\n",
    "\n",
    "opt = SolverFactory('cbc')\n",
    "results=opt.solve(instance)\n",
    "\n",
    "from pyomo.opt import SolverStatus, TerminationCondition\n",
    "if (results.solver.status == SolverStatus.ok) and (results.solver.termination_condition == TerminationCondition.optimal):\n",
    "     print (\"this is feasible and optimal\")\n",
    "elif results.solver.termination_condition == TerminationCondition.infeasible:\n",
    "     print (\"do something about it? or exit?\")\n",
    "else:\n",
    "     print (str(results.solver))"
   ]
  },
  {
   "cell_type": "code",
   "execution_count": 5,
   "metadata": {},
   "outputs": [
    {
     "name": "stdout",
     "output_type": "stream",
     "text": [
      "1 12.0 12.0\n",
      "2 28.0 28.0\n",
      "3 160.0 160.0\n"
     ]
    },
    {
     "data": {
      "image/png": "[encoded data removed]",
      "text/plain": [
       "<Figure size 720x432 with 2 Axes>"
      ]
     },
     "metadata": {
      "needs_background": "light"
     },
     "output_type": "display_data"
    }
   ],
   "source": [
    "plt.figure(figsize=(10,6))\n",
    "\n",
    "for c in instance.clas:\n",
    "    print(c,value(instance.x[c]), value(instance.coef[c]*instance.x[c]))\n",
    "    \n",
    "plt.subplot(2,1,1)\n",
    "    \n",
    "Seats=[value(instance.x[c]) for c in instance.clas ]\n",
    "cls=[c for c in instance.clas]\n",
    "plt.bar(cls,Seats,  color=['red','gold','cornflowerblue'])\n",
    "plt.xticks(cls, ['First' ,'Business' ,'Economy'], fontweight='bold')  \n",
    "plt.yticks(fontweight='bold')  \n",
    "plt.ylabel('Dedicated seats', fontweight='bold')\n",
    "plt.xlim(0,4)\n",
    "plt.grid()\n",
    "plt.subplot(2,1,2)\n",
    "\n",
    "for c in instance.clas:\n",
    "    for s in instance.s:\n",
    "        plt.bar(c+0.2-0.08*s,value(instance.S[s,c]), width=0.07)\n",
    "    \n",
    "plt.xticks(cls, ['First' ,'Business' ,'Economy'], fontweight='bold')  \n",
    "plt.yticks(fontweight='bold')  \n",
    "\n",
    "plt.ylabel('Sold seats', fontweight='bold')\n",
    "plt.xlim(0,4)\n",
    "plt.grid()"
   ]
  },
  {
   "cell_type": "code",
   "execution_count": null,
   "metadata": {},
   "outputs": [],
   "source": []
  },
  {
   "cell_type": "code",
   "execution_count": null,
   "metadata": {},
   "outputs": [],
   "source": []
  }
 ],
 "metadata": {
  "kernelspec": {
   "display_name": "Python 3",
   "language": "python",
   "name": "python3"
  },
  "language_info": {
   "codemirror_mode": {
    "name": "ipython",
    "version": 3
   },
   "file_extension": ".py",
   "mimetype": "text/x-python",
   "name": "python",
   "nbconvert_exporter": "python",
   "pygments_lexer": "ipython3",
   "version": "3.7.12"
  }
 },
 "nbformat": 4,
 "nbformat_minor": 4
}
