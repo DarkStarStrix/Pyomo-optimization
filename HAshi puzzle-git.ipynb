{
 "cells": [
  {
   "cell_type": "code",
   "execution_count": 1,
   "id": "eba21227",
   "metadata": {},
   "outputs": [],
   "source": [
    "from shapely.geometry import LineString\n",
    "import matplotlib.pyplot as plt\n",
    "import numpy as np\n",
    "import random \n",
    "import pandas as pd\n",
    "from pyomo.environ import *\n"
   ]
  },
  {
   "cell_type": "code",
   "execution_count": 2,
   "id": "30fef048",
   "metadata": {},
   "outputs": [
    {
     "name": "stdout",
     "output_type": "stream",
     "text": [
      "False\n",
      "6 6\n",
      "0 0 1\n",
      "0 2 4\n",
      "0 5 3\n",
      "2 0 4\n",
      "2 2 7\n",
      "2 4 3\n",
      "3 1 2\n",
      "3 3 2\n",
      "3 5 3\n",
      "4 0 2\n",
      "4 2 1\n",
      "4 4 1\n",
      "5 1 3\n",
      "5 3 5\n",
      "5 5 3\n"
     ]
    },
    {
     "data": {
      "text/plain": [
       "(     a    b    c    d    e    f\n",
       " 0  1.0  0.0  4.0  0.0  2.0  0.0\n",
       " 1  0.0  0.0  0.0  2.0  0.0  3.0\n",
       " 2  4.0  0.0  7.0  0.0  1.0  0.0\n",
       " 3  0.0  0.0  0.0  2.0  0.0  5.0\n",
       " 4  0.0  0.0  3.0  0.0  1.0  0.0\n",
       " 5  3.0  0.0  0.0  3.0  0.0  3.0,\n",
       " {(1, 'x'): 0,\n",
       "  (1, 'y'): 0,\n",
       "  (1, 'v'): 1,\n",
       "  (2, 'x'): 0,\n",
       "  (2, 'y'): 2,\n",
       "  (2, 'v'): 4,\n",
       "  (3, 'x'): 0,\n",
       "  (3, 'y'): 5,\n",
       "  (3, 'v'): 3,\n",
       "  (4, 'x'): 2,\n",
       "  (4, 'y'): 0,\n",
       "  (4, 'v'): 4,\n",
       "  (5, 'x'): 2,\n",
       "  (5, 'y'): 2,\n",
       "  (5, 'v'): 7,\n",
       "  (6, 'x'): 2,\n",
       "  (6, 'y'): 4,\n",
       "  (6, 'v'): 3,\n",
       "  (7, 'x'): 3,\n",
       "  (7, 'y'): 1,\n",
       "  (7, 'v'): 2,\n",
       "  (8, 'x'): 3,\n",
       "  (8, 'y'): 3,\n",
       "  (8, 'v'): 2,\n",
       "  (9, 'x'): 3,\n",
       "  (9, 'y'): 5,\n",
       "  (9, 'v'): 3,\n",
       "  (10, 'x'): 4,\n",
       "  (10, 'y'): 0,\n",
       "  (10, 'v'): 2,\n",
       "  (11, 'x'): 4,\n",
       "  (11, 'y'): 2,\n",
       "  (11, 'v'): 1,\n",
       "  (12, 'x'): 4,\n",
       "  (12, 'y'): 4,\n",
       "  (12, 'v'): 1,\n",
       "  (13, 'x'): 5,\n",
       "  (13, 'y'): 1,\n",
       "  (13, 'v'): 3,\n",
       "  (14, 'x'): 5,\n",
       "  (14, 'y'): 3,\n",
       "  (14, 'v'): 5,\n",
       "  (15, 'x'): 5,\n",
       "  (15, 'y'): 5,\n",
       "  (15, 'v'): 3})"
      ]
     },
     "execution_count": 2,
     "metadata": {},
     "output_type": "execute_result"
    }
   ],
   "source": [
    "L1 = [(0, 0), (13, 1)]\n",
    "L2 = [(0.2, 3), (4.2, 3)]\n",
    "\n",
    "line = LineString([L1[0], L1[1]])\n",
    "other = LineString([L2[0], L2[1]])\n",
    "print(line.intersects(other))\n",
    "# True\n",
    "df= pd.read_csv('Hashi4.csv')\n",
    "df= pd.read_csv('Hashi3.csv')\n",
    "df= pd.read_csv('Hashi2.csv')\n",
    "\n",
    "df= df.fillna(0) \n",
    "df\n",
    "\n",
    "xmax = len(df.columns) \n",
    "ymax =len(df)\n",
    "print(xmax ,ymax)\n",
    "\n",
    "data, points, c ={}, {}, 0\n",
    "for x in range(xmax):\n",
    "    for y in range(ymax):\n",
    "        if int(df.iloc[y,x]) >0:\n",
    "            c+=1\n",
    "            data[c,'x'] =x\n",
    "            data[c,'y'] =y\n",
    "            data[c,'v'] =int(df.iloc[y,x])\n",
    "            print(x,y,int(df.iloc[y,x]))\n",
    "        \n",
    "data\n",
    "Nc = c\n",
    "\n",
    "points = [i for i in range(1,1+Nc)]\n",
    "\n",
    "lines , ALL_lines= {}, {}\n",
    "for c1 in points:\n",
    "    for c2 in points: \n",
    "        condition1 = data[c1,'x'] == data[c2,'x']\n",
    "        condition2 = data[c1,'y'] == data[c2,'y']\n",
    "        if c1!=c2 and (condition1 or condition2) and c1>c2:\n",
    "            lines[c1,c2] = 1\n",
    "        if c1!=c2 and (condition1 or condition2):\n",
    "            ALL_lines[c1,c2] = 1\n",
    "            \n",
    "lines   \n",
    "df, data"
   ]
  },
  {
   "cell_type": "code",
   "execution_count": 3,
   "id": "64db34a1",
   "metadata": {},
   "outputs": [],
   "source": [
    "def draw(L, LW=1):\n",
    "    if LW > 1:\n",
    "        LW =8\n",
    "        plt.plot([L[0][0],L[1][0]], [L[0][1],L[1][1]], lw=LW)\n",
    "    else:\n",
    "        plt.plot([L[0][0],L[1][0]], [L[0][1],L[1][1]], lw=2, c= 'k')"
   ]
  },
  {
   "cell_type": "code",
   "execution_count": 4,
   "id": "ae24a197",
   "metadata": {},
   "outputs": [],
   "source": [
    "model = AbstractModel()\n",
    "model.i = RangeSet(Nc)\n",
    "model.j = Set(initialize=model.i)\n",
    "\n",
    "model.X = Var(model.i,model.j,bounds=(0,2),initialize=0, within=Integers)\n",
    "model.U = Var(model.i,model.j,bounds=(0,1),initialize=0, within=Binary)\n",
    "model.flow = Var(model.i,model.j,bounds=(0,1),initialize=0, within=Reals)\n",
    "model.s = Var(bounds=(0,1),initialize=0, within=Reals)\n",
    "\n",
    "\n",
    "def rule_C1(model,c): \n",
    "    return   data[c,'v'] == sum(model.X[c,j] for j in model.j if (c,j) in lines) +\\\n",
    "                            sum(model.X[j,c] for j in model.j if (j,c) in lines)\n",
    "model.C1 = Constraint(model.i,rule=rule_C1)\n",
    "\n",
    "\n",
    "def rule_C2(model,m,n,i,j): \n",
    "    L1 = [(data[i,'x'],data[i,'y']), (data[j,'x'],data[j,'y'])]\n",
    "    L2 = [(data[m,'x'],data[m,'y']), (data[n,'x'],data[n,'y'])]\n",
    "    line = LineString([L1[0], L1[1]])\n",
    "    other = LineString([L2[0], L2[1]])\n",
    "    a = line.intersection(other)\n",
    "    a = line.intersection(other)\n",
    "    cancel_con = len(set([i,j,m,n])) <4\n",
    "    con0 = (m,n) in lines and (i,j) in lines and (m,n)!=(i,j) and (m*n>i*j)\n",
    "    con1 = con0 and (not cancel_con) and line.intersects(other)\n",
    "    con2 = con0 and (cancel_con and a.length> 1) and line.intersects(other) and (m,n)!=(i,j) and (m*n>i*j)\n",
    "\n",
    "    if con1 or con2:\n",
    "        return   model.U[i,j]+model.U[m,n] <= 1\n",
    "    else:\n",
    "        return Constraint.Skip\n",
    "model.C2 = Constraint(model.i,model.i,model.i,model.i, rule=rule_C2)\n",
    "\n",
    "\n",
    "def rule_C3(model,i,j):\n",
    "    if (i,j) in lines:\n",
    "        return   model.X[i,j]<= 2*model.U[i,j]\n",
    "    else:\n",
    "        return Constraint.Skip\n",
    "model.C3 = Constraint(model.i,model.j, rule=rule_C3)\n",
    "\n",
    "def rule_C3B(model,i,j):\n",
    "    if (i,j) in lines:\n",
    "        return   model.X[i,j]>= model.U[i,j]\n",
    "    else:\n",
    "        return Constraint.Skip\n",
    "model.C3B = Constraint(model.i,model.j, rule=rule_C3B)\n",
    "\n",
    "\n",
    "def rule_C4A(model,i):\n",
    "    if i ==1 :\n",
    "        return model.s - 0.001 == sum( model.flow[i,j]-model.flow[j,i] for j in model.j if (i,j) in ALL_lines ) \n",
    "    else:\n",
    "        return         - 0.001 == sum( model.flow[i,j]-model.flow[j,i] for j in model.j if (i,j) in ALL_lines ) \n",
    "model.C4A = Constraint(model.i, rule=rule_C4A)\n",
    "\n",
    "def rule_C4B(model,i,j):\n",
    "    if (i,j) in lines:\n",
    "        return   model.flow[i,j]<= model.U[i,j]\n",
    "    elif (j,i) in lines:\n",
    "        return   model.flow[i,j]<= model.U[j,i]\n",
    "    else:\n",
    "        return Constraint.Skip\n",
    "model.C4B = Constraint(model.i,model.j, rule=rule_C4B)\n",
    "\n",
    "def rule_OF(model):\n",
    "    return  sum(model.U[i,j] for (i,j) in lines) \n",
    "model.obj1 = Objective(rule=rule_OF, sense=minimize)\n",
    "instance = model.create_instance()  \n"
   ]
  },
  {
   "cell_type": "code",
   "execution_count": 5,
   "id": "15ebe5ef",
   "metadata": {},
   "outputs": [
    {
     "name": "stdout",
     "output_type": "stream",
     "text": [
      "this is feasible and optimal and nothing more\n",
      "OF=  14.0\n"
     ]
    }
   ],
   "source": [
    "opt = SolverFactory('cbc')\n",
    "opt.options = {'sec': 600, 'threads': 4, 'ratio': 0.1}\n",
    "results = opt.solve(instance)\n",
    "\n",
    "from pyomo.opt import SolverStatus, TerminationCondition\n",
    "if (results.solver.status == SolverStatus.ok) and (results.solver.termination_condition == TerminationCondition.optimal):\n",
    "     print (\"this is feasible and optimal and nothing more\")\n",
    "elif results.solver.termination_condition == TerminationCondition.infeasible:\n",
    "     print (\"do something about it? or exit?\")\n",
    "else:\n",
    "     print ('ERROR ' + str(results.solver))\n",
    "print('OF= ', value(instance.obj1) )\n"
   ]
  },
  {
   "cell_type": "code",
   "execution_count": 10,
   "id": "8c04ae2a",
   "metadata": {
    "scrolled": true
   },
   "outputs": [
    {
     "name": "stdout",
     "output_type": "stream",
     "text": [
      "2 1 1.0\n",
      "3 2 1.0\n",
      "5 2 2.0\n",
      "5 4 2.0\n",
      "6 5 2.0\n",
      "9 3 2.0\n",
      "10 4 2.0\n",
      "11 5 1.0\n",
      "12 6 1.0\n",
      "13 7 2.0\n",
      "14 8 2.0\n",
      "14 13 1.0\n",
      "15 9 1.0\n",
      "15 14 2.0\n"
     ]
    },
    {
     "data": {
      "image/png": "[encoded data removed]",
      "text/plain": [
       "<Figure size 576x576 with 1 Axes>"
      ]
     },
     "metadata": {
      "needs_background": "light"
     },
     "output_type": "display_data"
    }
   ],
   "source": [
    "plt.figure(figsize=(8,8))\n",
    "\n",
    "for i in instance.i:\n",
    "    plt.scatter(data[i,'x'],data[i,'y'],s=900, c='k', zorder=3)\n",
    "    plt.text(data[i,'x']-0.1,data[i,'y'],s=str(data[i,'v']), c='w', fontweight='bold', fontsize=14)\n",
    "    \n",
    "plt.savefig(f'Sashi Base .png', format='png', dpi=400)\n",
    "\n",
    "plt.grid()\n",
    "maxx, maxy= max([data[c,'x'] for c in instance.i])+1 ,  max([data[c,'y'] for c in instance.i])+1\n",
    "counter = 1\n",
    "for (i,j) in lines:\n",
    "    if value(instance.X[i,j])>0 and counter <500:\n",
    "        print(i,j, value(instance.X[i,j]))\n",
    "        L = [(data[i,'x'],data[i,'y']), (data[j,'x'],data[j,'y'])]\n",
    "        draw(L, value(instance.X[i,j]))        \n",
    "        plt.xticks(range(maxx))\n",
    "        plt.yticks(range(maxy))\n",
    "        counter+=1\n",
    "\n",
    "plt.xticks(range(maxx))\n",
    "plt.yticks(range(maxy))\n",
    "plt.grid()\n",
    "\n",
    "plt.savefig(f'Sashi  .png', format='png', dpi=400)\n",
    "\n",
    "plt.show()"
   ]
  },
  {
   "cell_type": "code",
   "execution_count": 7,
   "id": "1de93e68",
   "metadata": {},
   "outputs": [
    {
     "data": {
      "image/png": "[encoded data removed]",
      "text/plain": [
       "<Figure size 576x576 with 1 Axes>"
      ]
     },
     "metadata": {
      "needs_background": "light"
     },
     "output_type": "display_data"
    }
   ],
   "source": [
    "plt.figure(figsize=(8,8))\n",
    "\n",
    "for i in instance.i:\n",
    "    plt.scatter(data[i,'x'],data[i,'y'],s=900, c='k')\n",
    "    plt.text(data[i,'x']-0.16,data[i,'y'],s=str(i), c='w', fontweight='bold', fontsize=14)\n",
    "    \n",
    "plt.grid()\n",
    "plt.xticks(range(maxx))\n",
    "plt.yticks(range(maxy))\n",
    "\n",
    "plt.show()"
   ]
  }
 ],
 "metadata": {
  "kernelspec": {
   "display_name": "Python 3",
   "language": "python",
   "name": "python3"
  },
  "language_info": {
   "codemirror_mode": {
    "name": "ipython",
    "version": 3
   },
   "file_extension": ".py",
   "mimetype": "text/x-python",
   "name": "python",
   "nbconvert_exporter": "python",
   "pygments_lexer": "ipython3",
   "version": "3.7.12"
  }
 },
 "nbformat": 4,
 "nbformat_minor": 5
}
