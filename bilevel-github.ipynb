{
 "cells": [
  {
   "cell_type": "markdown",
   "metadata": {},
   "source": [
    "# How to cite \n",
    "@software{Alireza_Soroudi_PyomoOptimization, author = {Alireza Soroudi, Alireza}, license = {MIT}, title = {{PyomoOptimization}}, url = {https://github.com/OptimizationExpert/Pyomo%7D }"
   ]
  },
  {
   "cell_type": "code",
   "execution_count": 1,
   "metadata": {
    "executionInfo": {
     "elapsed": 3688,
     "status": "ok",
     "timestamp": 1672412393035,
     "user": {
      "displayName": "Optimization team",
      "userId": "15136432228850492764"
     },
     "user_tz": 0
    },
    "id": "Q81gD3GOtgJD"
   },
   "outputs": [],
   "source": [
    "from pyomo.environ import *"
   ]
  },
  {
   "cell_type": "markdown",
   "metadata": {},
   "source": [
    "# Single level optimization problem\n",
    "$$\\min_{x,y} OF = 3x+y $$\n",
    "$$(-x-4y+8) \\leq 0  : \\mu_1$$\n",
    "$$(x+2y-13) \\leq 0  : \\mu_2$$\n",
    "$$(x+y-8) \\leq 0  : \\mu_3$$\n",
    "$$  1\\leq x \\leq 6 : \\mu_4$$\n"
   ]
  },
  {
   "cell_type": "markdown",
   "metadata": {},
   "source": [
    "# Bi-level optimization problem\n",
    "$$\\min_{x} OF_{upper} = 3x+y $$\n",
    "$$  1\\leq x \\leq 6 : \\mu_4$$\n",
    "Subject to \n",
    "$$\\min_{y} OF_{lower} = -y $$\n",
    "$$(-x-4y+8) \\leq 0  : \\mu_1$$\n",
    "$$(x+2y-13) \\leq 0  : \\mu_2$$\n",
    "$$(x+y-8) \\leq 0  : \\mu_3$$\n"
   ]
  },
  {
   "cell_type": "markdown",
   "metadata": {},
   "source": [
    "We need to replace the lower problem with its KKT conditions "
   ]
  },
  {
   "cell_type": "markdown",
   "metadata": {},
   "source": [
    "# KKT conditions: \n",
    "- Create Lagrangian      \n",
    "$$\\mathcal{L} = -y + \\mu_1(-x-4y+8) +\\mu_2(x+2y-13)+\\mu_3(x+y-8)$$\n",
    "\n",
    "- Differentiate to the lower leb=vel variable (y) = 0       \n",
    "$$ \\frac{\\partial \\mathcal{L}}{\\partial y} = -1 -4\\mu_1+2\\mu_2+\\mu_3 =0  $$\n",
    "\n",
    "- Complementarity slackness conditions \n",
    "$$\\mu_1(-x-4y+8)=0 $$\n",
    "$$\\mu_2(x+2y-13)=0$$\n",
    "$$\\mu_3(x+y-8)=0  $$\n",
    "$$ \\mu_i \\geq 0 $$\n",
    "\n",
    "- Original conditions: \n",
    "$$(-x-4y+8) \\leq 0$$\n",
    "$$(x+2y-13) \\leq 0$$\n",
    "$$(x+y-8) \\leq 0$$\n",
    "$$  1\\leq x \\leq 6 : \\mu_4$$\n"
   ]
  },
  {
   "cell_type": "markdown",
   "metadata": {
    "executionInfo": {
     "elapsed": 2851,
     "status": "ok",
     "timestamp": 1672412410924,
     "user": {
      "displayName": "Optimization team",
      "userId": "15136432228850492764"
     },
     "user_tz": 0
    },
    "id": "_WvYMAaHZW2k"
   },
   "source": [
    "# Pyomo code"
   ]
  },
  {
   "cell_type": "code",
   "execution_count": 2,
   "metadata": {
    "colab": {
     "base_uri": "https://localhost:8080/"
    },
    "executionInfo": {
     "elapsed": 268,
     "status": "ok",
     "timestamp": 1672412542172,
     "user": {
      "displayName": "Optimization team",
      "userId": "15136432228850492764"
     },
     "user_tz": 0
    },
    "id": "LkpGUtiS60lD",
    "outputId": "dbe850c3-e499-46a7-a7d9-751aab04ce5c",
    "pycharm": {}
   },
   "outputs": [
    {
     "name": "stdout",
     "output_type": "stream",
     "text": [
      "feasible\n",
      "6.25\n",
      "x =  1.0\n",
      "y =  1.75\n"
     ]
    }
   ],
   "source": [
    "# create a model\n",
    "model = AbstractModel()\n",
    "# declare decision variables\n",
    "model.x = Var(bounds= (1,6) , domain=Reals)\n",
    "model.y = Var(domain=Reals)\n",
    "# declare constraints\n",
    "model.C1 = Constraint(expr = (-model.x-4*model.y+8) <= 0)\n",
    "model.C2 = Constraint(expr = (model.x+2*model.y-13) <= 0)\n",
    "model.C3 = Constraint(expr = (model.x+model.y-8) <= 0)\n",
    "# declare objective\n",
    "model.obj = Objective(expr = model.x + 3*model.y, sense=minimize)\n",
    "opt = SolverFactory('glpk')\n",
    "instance = model.create_instance()# solves and updates instance\n",
    "results = opt.solve(instance)\n",
    "if (results.solver.status == SolverStatus.ok) and (results.solver.termination_condition == TerminationCondition.optimal):\n",
    "    print('feasible')\n",
    "elif (results.solver.termination_condition == TerminationCondition.infeasible):\n",
    "    print('infeasible')\n",
    "else:\n",
    "    print ('Solver Status:',  results.solver.status)\n",
    "print(value(instance.obj))\n",
    "print('x = ', round(value(instance.x),4) )\n",
    "print('y = ', round(value(instance.y),4) )"
   ]
  },
  {
   "cell_type": "code",
   "execution_count": 3,
   "metadata": {},
   "outputs": [
    {
     "name": "stdout",
     "output_type": "stream",
     "text": [
      "feasible\n",
      "OF =  12.0\n",
      "x =  6.0\n",
      "y =  2.0\n",
      "mu1 =  0.0\n",
      "mu2 =  0.0\n",
      "mu3 =  1.0\n"
     ]
    }
   ],
   "source": [
    "model = AbstractModel()\n",
    "# declare decision variables\n",
    "model.x = Var(bounds= (1,6) , domain=Reals)\n",
    "model.y = Var(domain=Reals)\n",
    "model.mu1 = Var(bounds= (0,None) , domain=Reals)\n",
    "model.mu2 = Var(bounds= (0,None) , domain=Reals)\n",
    "model.mu3 = Var(bounds= (0,None) , domain=Reals)\n",
    "\n",
    "# declare constraints\n",
    "model.C1 = Constraint(expr = (-model.x-4*model.y+8) <= 0)\n",
    "model.C2 = Constraint(expr = (model.x+2*model.y-13) <= 0)\n",
    "model.C3 = Constraint(expr = (model.x+model.y-8) <= 0)\n",
    "\n",
    "model.D1 = Constraint(expr = model.mu1*(-model.x-4*model.y+8) == 0)\n",
    "model.D2 = Constraint(expr = model.mu2*(model.x+2*model.y-13) == 0)\n",
    "model.D3 = Constraint(expr = model.mu3*(model.x+model.y-8) == 0)\n",
    "\n",
    "model.lagrngian = Constraint(expr = -1 -4*model.mu1+2*model.mu2+model.mu3 == 0)\n",
    "\n",
    "# declare objective\n",
    "model.obj = Objective(expr = model.x + 3*model.y, sense=minimize)\n",
    "opt = SolverFactory('ipopt')\n",
    "instance = model.create_instance()# solves and updates instance\n",
    "results = opt.solve(instance)\n",
    "if (results.solver.status == SolverStatus.ok) and (results.solver.termination_condition == TerminationCondition.optimal):\n",
    "    print('feasible')\n",
    "elif (results.solver.termination_condition == TerminationCondition.infeasible):\n",
    "    print('infeasible')\n",
    "else:\n",
    "    print ('Solver Status:',  results.solver.status)\n",
    "print('OF = ', round(value(instance.obj),4) )\n",
    "print('x = ', round(value(instance.x),4) )\n",
    "print('y = ', round(value(instance.y),4) )\n",
    "print('mu1 = ', round(value(instance.mu1),4) )\n",
    "print('mu2 = ', round(value(instance.mu2),4) )\n",
    "print('mu3 = ', round(value(instance.mu3),4) )"
   ]
  }
 ],
 "metadata": {
  "colab": {
   "provenance": [
    {
     "file_id": "1yGk8RB5NXrcx9f1Tb-oCiWzbxh61hZLI",
     "timestamp": 1672409808671
    },
    {
     "file_id": "1yJLvenTT23oHRs9Xen52PAXa7I5TUB7K",
     "timestamp": 1599662141071
    },
    {
     "file_id": "https://github.com/jckantor/ND-Pyomo-Cookbook/blob/master/notebooks/01.02-Running-Pyomo-on-Google-Colab.ipynb",
     "timestamp": 1589571368563
    }
   ]
  },
  "kernelspec": {
   "display_name": "Python 3",
   "language": "python",
   "name": "python3"
  },
  "language_info": {
   "codemirror_mode": {
    "name": "ipython",
    "version": 3
   },
   "file_extension": ".py",
   "mimetype": "text/x-python",
   "name": "python",
   "nbconvert_exporter": "python",
   "pygments_lexer": "ipython3",
   "version": "3.7.12"
  }
 },
 "nbformat": 4,
 "nbformat_minor": 1
}
