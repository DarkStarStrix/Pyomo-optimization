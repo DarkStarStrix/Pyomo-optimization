{
 "cells": [
  {
   "cell_type": "code",
   "execution_count": 1,
   "metadata": {},
   "outputs": [],
   "source": [
    "from pyomo.environ import *\n",
    "import numpy as np\n",
    "import pandas as pd\n",
    "import random \n",
    "import matplotlib.pyplot as plt\n",
    "import time"
   ]
  },
  {
   "cell_type": "code",
   "execution_count": 11,
   "metadata": {},
   "outputs": [],
   "source": [
    "N= 500\n",
    "df=pd.DataFrame()\n",
    "df['x']= [random.random() for i in range(N)]\n",
    "df['y']= [random.random() for i in range(N)]\n",
    "minD = 0.2"
   ]
  },
  {
   "cell_type": "code",
   "execution_count": 12,
   "metadata": {},
   "outputs": [],
   "source": [
    "model = AbstractModel()\n",
    "model.i = RangeSet(N)\n",
    "model.j = Set(initialize=model.i)\n",
    "\n",
    "model.x = Var(model.i, within=Binary)\n",
    "\n",
    "def D_rule(model, i,j):\n",
    "    return np.sqrt( (df.loc[i-1,'x']-df.loc[j-1,'x'])**2 + (df.loc[i-1,'y']-df.loc[j-1,'y'])**2 )\n",
    "model.D = Param(model.i,model.j, rule=D_rule)\n",
    "\n",
    "\n",
    "def C1_rule(model, i,j):\n",
    "    if i>j and model.D[i,j] <= minD:\n",
    "        return model.x[i] + model.x[j] <= 1 \n",
    "    else:\n",
    "        return Constraint.Skip \n",
    "model.C1 = Constraint(model.i,model.j, rule=C1_rule)\n",
    "\n",
    "def obj_rule(model):\n",
    "    return sum(model.x[i] for i in model.i)\n",
    "model.OF = Objective(rule=obj_rule,sense=maximize)"
   ]
  },
  {
   "cell_type": "code",
   "execution_count": 13,
   "metadata": {},
   "outputs": [
    {
     "name": "stdout",
     "output_type": "stream",
     "text": [
      "Time is  212.7969\n",
      "feasible\n",
      "28.0\n"
     ]
    }
   ],
   "source": [
    "opt = SolverFactory('cbc')\n",
    "instance = model.create_instance()\n",
    "\n",
    "start = time.time()\n",
    "results = opt.solve(instance) # solves and updates instance\n",
    "print('Time is ', round(time.time() - start, 4) ) \n",
    "\n",
    "if (results.solver.status == SolverStatus.ok) and (results.solver.termination_condition == TerminationCondition.optimal):\n",
    "    print('feasible')\n",
    "elif (results.solver.termination_condition == TerminationCondition.infeasible):\n",
    "    print('infeasible')\n",
    "else:\n",
    "    print ('Solver Status:',  results.solver.status)\n",
    "print(value(instance.OF))"
   ]
  },
  {
   "cell_type": "code",
   "execution_count": 14,
   "metadata": {},
   "outputs": [
    {
     "data": {
      "image/png": "[encoded data removed]",
      "text/plain": [
       "<Figure size 504x504 with 1 Axes>"
      ]
     },
     "metadata": {
      "needs_background": "light"
     },
     "output_type": "display_data"
    }
   ],
   "source": [
    "A=['#1f77b4', '#ff7f0e', '#2ca02c', '#d62728', '#9467bd', '#8c564b', '#e377c2', '#7f7f7f', '#bcbd22', '#17becf']\n",
    "plt.figure(figsize=(7,7))\n",
    "for i in instance.i:\n",
    "        x0 = df.loc[i-1,'x']\n",
    "        y0 = df.loc[i-1,'y']\n",
    "        if value(instance.x[i])>0:\n",
    "            plt.scatter(x0,y0, s=50 , c='r' )\n",
    "        else:\n",
    "            plt.scatter(x0,y0, s=20 , c='k' )\n",
    "\n",
    "plt.xlabel('  X  ' , fontweight = 'bold', fontsize= 14)\n",
    "plt.ylabel('  Y  ', fontweight = 'bold', fontsize= 14)\n",
    "plt.grid()\n",
    "plt.show()"
   ]
  },
  {
   "cell_type": "code",
   "execution_count": 15,
   "metadata": {},
   "outputs": [
    {
     "name": "stdout",
     "output_type": "stream",
     "text": [
      "# ==========================================================\n",
      "# = Solver Results                                         =\n",
      "# ==========================================================\n",
      "# ----------------------------------------------------------\n",
      "#   Problem Information\n",
      "# ----------------------------------------------------------\n",
      "Problem: \n",
      "- Name: unknown\n",
      "  Lower bound: 28.0\n",
      "  Upper bound: 28.0\n",
      "  Number of objectives: 1\n",
      "  Number of constraints: 12661\n",
      "  Number of variables: 500\n",
      "  Number of binary variables: 500\n",
      "  Number of integer variables: 500\n",
      "  Number of nonzeros: 500\n",
      "  Sense: maximize\n",
      "# ----------------------------------------------------------\n",
      "#   Solver Information\n",
      "# ----------------------------------------------------------\n",
      "Solver: \n",
      "- Status: ok\n",
      "  User time: -1.0\n",
      "  System time: 211.52\n",
      "  Wallclock time: 212.44\n",
      "  Termination condition: optimal\n",
      "  Termination message: Model was solved to optimality (subject to tolerances), and an optimal solution is available.\n",
      "  Statistics: \n",
      "    Branch and bound: \n",
      "      Number of bounded subproblems: 48\n",
      "      Number of created subproblems: 48\n",
      "    Black box: \n",
      "      Number of iterations: 174056\n",
      "  Error rc: 0\n",
      "  Time: 212.552316904068\n",
      "# ----------------------------------------------------------\n",
      "#   Solution Information\n",
      "# ----------------------------------------------------------\n",
      "Solution: \n",
      "- number of solutions: 0\n",
      "  number of solutions displayed: 0\n"
     ]
    }
   ],
   "source": [
    "results.write()"
   ]
  },
  {
   "cell_type": "code",
   "execution_count": null,
   "metadata": {},
   "outputs": [],
   "source": []
  }
 ],
 "metadata": {
  "kernelspec": {
   "display_name": "Python 3",
   "language": "python",
   "name": "python3"
  },
  "language_info": {
   "codemirror_mode": {
    "name": "ipython",
    "version": 3
   },
   "file_extension": ".py",
   "mimetype": "text/x-python",
   "name": "python",
   "nbconvert_exporter": "python",
   "pygments_lexer": "ipython3",
   "version": "3.7.12"
  }
 },
 "nbformat": 4,
 "nbformat_minor": 4
}
