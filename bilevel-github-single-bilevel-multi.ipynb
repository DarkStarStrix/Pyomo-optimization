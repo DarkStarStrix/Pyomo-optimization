{
 "cells": [
  {
   "cell_type": "markdown",
   "metadata": {},
   "source": [
    "# How to cite \n",
    "@software{Alireza_Soroudi_PyomoOptimization, author = {Alireza Soroudi, Alireza}, license = {MIT}, title = {{PyomoOptimization}}, url = {https://github.com/OptimizationExpert/Pyomo%7D }"
   ]
  },
  {
   "cell_type": "code",
   "execution_count": 1,
   "metadata": {
    "executionInfo": {
     "elapsed": 3688,
     "status": "ok",
     "timestamp": 1672412393035,
     "user": {
      "displayName": "Optimization team",
      "userId": "15136432228850492764"
     },
     "user_tz": 0
    },
    "id": "Q81gD3GOtgJD"
   },
   "outputs": [],
   "source": [
    "from pyomo.environ import *\n",
    "import numpy as np \n",
    "import matplotlib.pyplot as plt"
   ]
  },
  {
   "cell_type": "markdown",
   "metadata": {},
   "source": [
    "# Single level optimization problem\n",
    "$$\\min_{x,y} OF = 3x+y $$\n",
    "$$(-x-4y+8) \\leq 0  : \\mu_1$$\n",
    "$$(x+2y-13) \\leq 0  : \\mu_2$$\n",
    "$$(x+y-8) \\leq 0  : \\mu_3$$\n",
    "$$  1\\leq x \\leq 6 : \\mu_4$$\n"
   ]
  },
  {
   "cell_type": "markdown",
   "metadata": {},
   "source": [
    "# Bi-level optimization problem\n",
    "$$\\min_{x} OF_{upper} = 3x+y $$\n",
    "$$  1\\leq x \\leq 6 : \\mu_4$$\n",
    "Subject to \n",
    "$$\\min_{y} OF_{lower} = -y $$\n",
    "$$(-x-4y+8) \\leq 0  : \\mu_1$$\n",
    "$$(x+2y-13) \\leq 0  : \\mu_2$$\n",
    "$$(x+y-8) \\leq 0  : \\mu_3$$\n"
   ]
  },
  {
   "cell_type": "markdown",
   "metadata": {},
   "source": [
    "We need to replace the lower problem with its KKT conditions "
   ]
  },
  {
   "cell_type": "markdown",
   "metadata": {},
   "source": [
    "# KKT conditions: \n",
    "- Create Lagrangian      \n",
    "$$\\mathcal{L} = -y + \\mu_1(-x-4y+8) +\\mu_2(x+2y-13)+\\mu_3(x+y-8)$$\n",
    "\n",
    "- Differentiate to the lower leb=vel variable (y) = 0       \n",
    "$$ \\frac{\\partial \\mathcal{L}}{\\partial y} = -1 -4\\mu_1+2\\mu_2+\\mu_3 =0  $$\n",
    "\n",
    "- Complementarity slackness conditions \n",
    "$$\\mu_1(-x-4y+8)=0 $$\n",
    "$$\\mu_2(x+2y-13)=0$$\n",
    "$$\\mu_3(x+y-8)=0  $$\n",
    "$$ \\mu_i \\geq 0 $$\n",
    "\n",
    "- Original conditions: \n",
    "$$(-x-4y+8) \\leq 0$$\n",
    "$$(x+2y-13) \\leq 0$$\n",
    "$$(x+y-8) \\leq 0$$\n",
    "$$  1\\leq x \\leq 6 : \\mu_4$$\n"
   ]
  },
  {
   "cell_type": "markdown",
   "metadata": {
    "executionInfo": {
     "elapsed": 2851,
     "status": "ok",
     "timestamp": 1672412410924,
     "user": {
      "displayName": "Optimization team",
      "userId": "15136432228850492764"
     },
     "user_tz": 0
    },
    "id": "_WvYMAaHZW2k"
   },
   "source": [
    "# Pyomo code"
   ]
  },
  {
   "cell_type": "markdown",
   "metadata": {},
   "source": [
    "# Single Objective problem"
   ]
  },
  {
   "cell_type": "code",
   "execution_count": 2,
   "metadata": {
    "colab": {
     "base_uri": "https://localhost:8080/"
    },
    "executionInfo": {
     "elapsed": 268,
     "status": "ok",
     "timestamp": 1672412542172,
     "user": {
      "displayName": "Optimization team",
      "userId": "15136432228850492764"
     },
     "user_tz": 0
    },
    "id": "LkpGUtiS60lD",
    "outputId": "dbe850c3-e499-46a7-a7d9-751aab04ce5c",
    "pycharm": {}
   },
   "outputs": [
    {
     "name": "stdout",
     "output_type": "stream",
     "text": [
      "feasible\n",
      "4.75\n",
      "x =  1.0\n",
      "y =  1.75\n"
     ]
    }
   ],
   "source": [
    "# create a model\n",
    "model = AbstractModel()\n",
    "# declare decision variables\n",
    "model.x = Var(bounds= (1,6) , domain=Reals)\n",
    "model.y = Var(domain=Reals)\n",
    "# declare constraints\n",
    "model.C1 = Constraint(expr = (-model.x-4*model.y+8) <= 0)\n",
    "model.C2 = Constraint(expr = (model.x+2*model.y-13) <= 0)\n",
    "model.C3 = Constraint(expr = (model.x+model.y-8) <= 0)\n",
    "# declare objective\n",
    "model.obj = Objective(expr = 3*model.x + model.y, sense=minimize)\n",
    "opt = SolverFactory('glpk')\n",
    "instance = model.create_instance()# solves and updates instance\n",
    "results = opt.solve(instance)\n",
    "if (results.solver.status == SolverStatus.ok) and (results.solver.termination_condition == TerminationCondition.optimal):\n",
    "    print('feasible')\n",
    "elif (results.solver.termination_condition == TerminationCondition.infeasible):\n",
    "    print('infeasible')\n",
    "else:\n",
    "    print ('Solver Status:',  results.solver.status)\n",
    "print(value(instance.obj))\n",
    "print('x = ', round(value(instance.x),4) )\n",
    "print('y = ', round(value(instance.y),4) )"
   ]
  },
  {
   "cell_type": "markdown",
   "metadata": {},
   "source": [
    "# Bi-level Optimization problem"
   ]
  },
  {
   "cell_type": "code",
   "execution_count": 3,
   "metadata": {},
   "outputs": [
    {
     "name": "stdout",
     "output_type": "stream",
     "text": [
      "feasible\n",
      "OF =  14.0\n",
      "x =  3.0\n",
      "y =  5.0\n",
      "mu1 =  0.0\n",
      "mu2 =  0.25\n",
      "mu3 =  0.5\n"
     ]
    }
   ],
   "source": [
    "model = AbstractModel()\n",
    "# declare decision variables\n",
    "model.x = Var(bounds= (1,6) , domain=Reals)\n",
    "model.y = Var(domain=Reals)\n",
    "model.mu1 = Var(bounds= (0,None) , domain=Reals)\n",
    "model.mu2 = Var(bounds= (0,None) , domain=Reals)\n",
    "model.mu3 = Var(bounds= (0,None) , domain=Reals)\n",
    "\n",
    "# declare constraints\n",
    "model.C1 = Constraint(expr = (-model.x-4*model.y+8) <= 0)\n",
    "model.C2 = Constraint(expr = (model.x+2*model.y-13) <= 0)\n",
    "model.C3 = Constraint(expr = (model.x+model.y-8) <= 0)\n",
    "\n",
    "model.D1 = Constraint(expr = model.mu1*(-model.x-4*model.y+8) == 0)\n",
    "model.D2 = Constraint(expr = model.mu2*(model.x+2*model.y-13) == 0)\n",
    "model.D3 = Constraint(expr = model.mu3*(model.x+model.y-8) == 0)\n",
    "\n",
    "model.lagrngian = Constraint(expr = -1 -4*model.mu1+2*model.mu2+model.mu3 == 0)\n",
    "\n",
    "# declare objective\n",
    "model.obj = Objective(expr = 3*model.x + model.y, sense=minimize)\n",
    "opt = SolverFactory('ipopt')\n",
    "instance = model.create_instance()# solves and updates instance\n",
    "results = opt.solve(instance)\n",
    "if (results.solver.status == SolverStatus.ok) and (results.solver.termination_condition == TerminationCondition.optimal):\n",
    "    print('feasible')\n",
    "elif (results.solver.termination_condition == TerminationCondition.infeasible):\n",
    "    print('infeasible')\n",
    "else:\n",
    "    print ('Solver Status:',  results.solver.status)\n",
    "print('OF = ', round(value(instance.obj),4) )\n",
    "print('x = ', round(value(instance.x),4) )\n",
    "print('y = ', round(value(instance.y),4) )\n",
    "print('mu1 = ', round(value(instance.mu1),4) )\n",
    "print('mu2 = ', round(value(instance.mu2),4) )\n",
    "print('mu3 = ', round(value(instance.mu3),4) )"
   ]
  },
  {
   "cell_type": "markdown",
   "metadata": {},
   "source": [
    "# Multi-objective Optimization "
   ]
  },
  {
   "cell_type": "code",
   "execution_count": 4,
   "metadata": {},
   "outputs": [],
   "source": [
    "# create a model\n",
    "model = AbstractModel()\n",
    "# declare decision variables\n",
    "model.x = Var(bounds= (1,6) , domain=Reals)\n",
    "model.y = Var(domain=Reals)\n",
    "model.limit = Param(initialize = -1000, mutable = True)\n",
    "# declare constraints\n",
    "model.C1 = Constraint(expr = (-model.x-4*model.y+8) <= 0)\n",
    "model.C2 = Constraint(expr = (model.x+2*model.y-13) <= 0)\n",
    "model.C3 = Constraint(expr = (model.x+model.y-8) <= 0)\n",
    "model.C4 = Constraint(expr = -model.y >= model.limit)\n",
    "# declare objective\n",
    "model.of1 = Objective(expr = 3*model.x + model.y, sense=minimize)\n",
    "model.of2 = Objective(expr = -model.y, sense=minimize)\n",
    "opt = SolverFactory('glpk')\n",
    "instance = model.create_instance()# solves and updates instance"
   ]
  },
  {
   "cell_type": "code",
   "execution_count": 5,
   "metadata": {},
   "outputs": [
    {
     "name": "stdout",
     "output_type": "stream",
     "text": [
      "x =  1.0\n",
      "y =  1.75\n",
      "max of2 -1.75 , min of1 6.25\n"
     ]
    }
   ],
   "source": [
    "instance.of1.activate()\n",
    "instance.of2.deactivate()\n",
    "results = opt.solve(instance)\n",
    "print('x = ', round(value(instance.x),4) )\n",
    "print('y = ', round(value(instance.y),4) )\n",
    "max_of2 = value(-instance.y) \n",
    "min_of1 = value(instance.x + 3*instance.y) \n",
    "print(f'max of2 {max_of2} , min of1 {min_of1}')"
   ]
  },
  {
   "cell_type": "code",
   "execution_count": 6,
   "metadata": {},
   "outputs": [
    {
     "name": "stdout",
     "output_type": "stream",
     "text": [
      "x =  1.0\n",
      "y =  6.0\n",
      "min of2 -6.0 , max of1 9.0\n"
     ]
    }
   ],
   "source": [
    "instance.of2.activate()\n",
    "instance.of1.deactivate()\n",
    "results = opt.solve(instance)\n",
    "print('x = ', round(value(instance.x),4) )\n",
    "print('y = ', round(value(instance.y),4) )\n",
    "min_of2 = value(instance.of2) \n",
    "max_of1 = value(3*instance.x + instance.y) \n",
    "print(f'min of2 {min_of2} , max of1 {max_of1}')"
   ]
  },
  {
   "cell_type": "code",
   "execution_count": 7,
   "metadata": {},
   "outputs": [
    {
     "name": "stdout",
     "output_type": "stream",
     "text": [
      "alpha = 0.0 , of2 -6.0 , of1 9.0 , (x,y) = (1.0,6.0)\n",
      "alpha = 0.111 , of2 -5.528 , of1 8.528 , (x,y) = (1.0,5.528)\n",
      "alpha = 0.222 , of2 -5.056 , of1 8.056 , (x,y) = (1.0,5.056)\n",
      "alpha = 0.333 , of2 -4.583 , of1 7.583 , (x,y) = (1.0,4.583)\n",
      "alpha = 0.444 , of2 -4.111 , of1 7.111 , (x,y) = (1.0,4.111)\n",
      "alpha = 0.556 , of2 -3.639 , of1 6.639 , (x,y) = (1.0,3.639)\n",
      "alpha = 0.667 , of2 -3.167 , of1 6.167 , (x,y) = (1.0,3.167)\n",
      "alpha = 0.778 , of2 -2.694 , of1 5.694 , (x,y) = (1.0,2.694)\n",
      "alpha = 0.889 , of2 -2.222 , of1 5.222 , (x,y) = (1.0,2.222)\n",
      "alpha = 1.0 , of2 -1.75 , of1 4.75 , (x,y) = (1.0,1.75)\n"
     ]
    },
    {
     "data": {
      "image/png": "[encoded data removed]",
      "text/plain": [
       "<Figure size 576x576 with 1 Axes>"
      ]
     },
     "metadata": {
      "needs_background": "light"
     },
     "output_type": "display_data"
    }
   ],
   "source": [
    "OF1 = []\n",
    "OF2 = []\n",
    "plt.figure(figsize=(8,8))\n",
    "for alpha in np.linspace(0,1,10):\n",
    "    instance.limit = (max_of2 - min_of2)*alpha + min_of2   \n",
    "    results = opt.solve(instance)\n",
    "    of2 = round(value(-instance.y),3)\n",
    "    of1 = round(value(3*instance.x + instance.y),3)\n",
    "    x= round(value(instance.x),3)\n",
    "    y= round(value(instance.y),3)\n",
    "    print(f'alpha = {round(alpha,3)} , of2 {of2} , of1 {of1} , (x,y) = ({x},{y})')\n",
    "    OF1.append(of1)\n",
    "    OF2.append(of2)\n",
    "plt.xlabel('$OF_1 = 3X+Y$' , fontsize=14, fontweight='bold')\n",
    "plt.ylabel('$OF_2 = - Y$', fontsize=14, fontweight='bold')\n",
    "plt.xticks(fontsize=14, fontweight='bold')\n",
    "plt.yticks(fontsize=14, fontweight='bold')\n",
    "\n",
    "plt.grid()\n",
    "\n",
    "plt.scatter(OF1,OF2,s=100)\n",
    "plt.show()"
   ]
  }
 ],
 "metadata": {
  "colab": {
   "provenance": [
    {
     "file_id": "1yGk8RB5NXrcx9f1Tb-oCiWzbxh61hZLI",
     "timestamp": 1672409808671
    },
    {
     "file_id": "1yJLvenTT23oHRs9Xen52PAXa7I5TUB7K",
     "timestamp": 1599662141071
    },
    {
     "file_id": "https://github.com/jckantor/ND-Pyomo-Cookbook/blob/master/notebooks/01.02-Running-Pyomo-on-Google-Colab.ipynb",
     "timestamp": 1589571368563
    }
   ]
  },
  "kernelspec": {
   "display_name": "Python 3",
   "language": "python",
   "name": "python3"
  },
  "language_info": {
   "codemirror_mode": {
    "name": "ipython",
    "version": 3
   },
   "file_extension": ".py",
   "mimetype": "text/x-python",
   "name": "python",
   "nbconvert_exporter": "python",
   "pygments_lexer": "ipython3",
   "version": "3.7.12"
  }
 },
 "nbformat": 4,
 "nbformat_minor": 1
}
